{
  "nbformat": 4,
  "nbformat_minor": 0,
  "metadata": {
    "colab": {
      "provenance": []
    },
    "kernelspec": {
      "name": "python3",
      "display_name": "Python 3"
    },
    "language_info": {
      "name": "python"
    }
  },
  "cells": [
    {
      "cell_type": "code",
      "execution_count": null,
      "metadata": {
        "id": "JpuxI0vmyzbL"
      },
      "outputs": [],
      "source": [
        "#gemini api\n",
        "#text generation\n",
        "#Q&A\n",
        "#Image to text\n",
        "#write a blog based on image\n",
        "#generatation configuration\n",
        "#conversation history\n",
        "#cont token\n",
        "#embedding- word to embedding, sentense to embedding\n",
        "#safety setting"
      ]
    },
    {
      "cell_type": "code",
      "source": [
        "!pip install google-generativeai"
      ],
      "metadata": {
        "colab": {
          "base_uri": "https://localhost:8080/"
        },
        "id": "0IU1Q1CmzjeU",
        "outputId": "e7593bc1-67f6-4070-db84-7394e459aaa5"
      },
      "execution_count": 1,
      "outputs": [
        {
          "output_type": "stream",
          "name": "stdout",
          "text": [
            "Requirement already satisfied: google-generativeai in /usr/local/lib/python3.10/dist-packages (0.7.2)\n",
            "Requirement already satisfied: google-ai-generativelanguage==0.6.6 in /usr/local/lib/python3.10/dist-packages (from google-generativeai) (0.6.6)\n",
            "Requirement already satisfied: google-api-core in /usr/local/lib/python3.10/dist-packages (from google-generativeai) (2.19.2)\n",
            "Requirement already satisfied: google-api-python-client in /usr/local/lib/python3.10/dist-packages (from google-generativeai) (2.137.0)\n",
            "Requirement already satisfied: google-auth>=2.15.0 in /usr/local/lib/python3.10/dist-packages (from google-generativeai) (2.27.0)\n",
            "Requirement already satisfied: protobuf in /usr/local/lib/python3.10/dist-packages (from google-generativeai) (3.20.3)\n",
            "Requirement already satisfied: pydantic in /usr/local/lib/python3.10/dist-packages (from google-generativeai) (2.9.2)\n",
            "Requirement already satisfied: tqdm in /usr/local/lib/python3.10/dist-packages (from google-generativeai) (4.66.5)\n",
            "Requirement already satisfied: typing-extensions in /usr/local/lib/python3.10/dist-packages (from google-generativeai) (4.12.2)\n",
            "Requirement already satisfied: proto-plus<2.0.0dev,>=1.22.3 in /usr/local/lib/python3.10/dist-packages (from google-ai-generativelanguage==0.6.6->google-generativeai) (1.24.0)\n",
            "Requirement already satisfied: googleapis-common-protos<2.0.dev0,>=1.56.2 in /usr/local/lib/python3.10/dist-packages (from google-api-core->google-generativeai) (1.65.0)\n",
            "Requirement already satisfied: requests<3.0.0.dev0,>=2.18.0 in /usr/local/lib/python3.10/dist-packages (from google-api-core->google-generativeai) (2.32.3)\n",
            "Requirement already satisfied: cachetools<6.0,>=2.0.0 in /usr/local/lib/python3.10/dist-packages (from google-auth>=2.15.0->google-generativeai) (5.5.0)\n",
            "Requirement already satisfied: pyasn1-modules>=0.2.1 in /usr/local/lib/python3.10/dist-packages (from google-auth>=2.15.0->google-generativeai) (0.4.1)\n",
            "Requirement already satisfied: rsa<5,>=3.1.4 in /usr/local/lib/python3.10/dist-packages (from google-auth>=2.15.0->google-generativeai) (4.9)\n",
            "Requirement already satisfied: httplib2<1.dev0,>=0.19.0 in /usr/local/lib/python3.10/dist-packages (from google-api-python-client->google-generativeai) (0.22.0)\n",
            "Requirement already satisfied: google-auth-httplib2<1.0.0,>=0.2.0 in /usr/local/lib/python3.10/dist-packages (from google-api-python-client->google-generativeai) (0.2.0)\n",
            "Requirement already satisfied: uritemplate<5,>=3.0.1 in /usr/local/lib/python3.10/dist-packages (from google-api-python-client->google-generativeai) (4.1.1)\n",
            "Requirement already satisfied: annotated-types>=0.6.0 in /usr/local/lib/python3.10/dist-packages (from pydantic->google-generativeai) (0.7.0)\n",
            "Requirement already satisfied: pydantic-core==2.23.4 in /usr/local/lib/python3.10/dist-packages (from pydantic->google-generativeai) (2.23.4)\n",
            "Requirement already satisfied: grpcio<2.0dev,>=1.33.2 in /usr/local/lib/python3.10/dist-packages (from google-api-core[grpc]!=2.0.*,!=2.1.*,!=2.10.*,!=2.2.*,!=2.3.*,!=2.4.*,!=2.5.*,!=2.6.*,!=2.7.*,!=2.8.*,!=2.9.*,<3.0.0dev,>=1.34.1->google-ai-generativelanguage==0.6.6->google-generativeai) (1.64.1)\n",
            "Requirement already satisfied: grpcio-status<2.0.dev0,>=1.33.2 in /usr/local/lib/python3.10/dist-packages (from google-api-core[grpc]!=2.0.*,!=2.1.*,!=2.10.*,!=2.2.*,!=2.3.*,!=2.4.*,!=2.5.*,!=2.6.*,!=2.7.*,!=2.8.*,!=2.9.*,<3.0.0dev,>=1.34.1->google-ai-generativelanguage==0.6.6->google-generativeai) (1.48.2)\n",
            "Requirement already satisfied: pyparsing!=3.0.0,!=3.0.1,!=3.0.2,!=3.0.3,<4,>=2.4.2 in /usr/local/lib/python3.10/dist-packages (from httplib2<1.dev0,>=0.19.0->google-api-python-client->google-generativeai) (3.1.4)\n",
            "Requirement already satisfied: pyasn1<0.7.0,>=0.4.6 in /usr/local/lib/python3.10/dist-packages (from pyasn1-modules>=0.2.1->google-auth>=2.15.0->google-generativeai) (0.6.1)\n",
            "Requirement already satisfied: charset-normalizer<4,>=2 in /usr/local/lib/python3.10/dist-packages (from requests<3.0.0.dev0,>=2.18.0->google-api-core->google-generativeai) (3.3.2)\n",
            "Requirement already satisfied: idna<4,>=2.5 in /usr/local/lib/python3.10/dist-packages (from requests<3.0.0.dev0,>=2.18.0->google-api-core->google-generativeai) (3.10)\n",
            "Requirement already satisfied: urllib3<3,>=1.21.1 in /usr/local/lib/python3.10/dist-packages (from requests<3.0.0.dev0,>=2.18.0->google-api-core->google-generativeai) (2.2.3)\n",
            "Requirement already satisfied: certifi>=2017.4.17 in /usr/local/lib/python3.10/dist-packages (from requests<3.0.0.dev0,>=2.18.0->google-api-core->google-generativeai) (2024.8.30)\n"
          ]
        }
      ]
    },
    {
      "cell_type": "code",
      "source": [
        "import google.generativeai as genai\n",
        "import pathlib\n",
        "import textwrap\n",
        "from IPython.display import Markdown, display\n",
        "\n"
      ],
      "metadata": {
        "id": "J17D-IoCz4ff"
      },
      "execution_count": 2,
      "outputs": []
    },
    {
      "cell_type": "code",
      "source": [
        "#removed some special charactor like * , /n etc\n",
        "def to_markdown(text):\n",
        "  text = text.replace('•', '  *')\n",
        "  return Markdown(textwrap.indent(text, '> ', predicate=lambda _: True))\n",
        "\n",
        "\n",
        "# Example usage:\n",
        "input_text = \"This is a • sample text with bullet points.\"\n",
        "result = to_markdown(input_text)\n",
        "\n",
        "display(result)"
      ],
      "metadata": {
        "colab": {
          "base_uri": "https://localhost:8080/",
          "height": 62
        },
        "id": "Ox8PwhQn2RYL",
        "outputId": "55c348c7-4d49-43af-c4a7-1c988d5907b9"
      },
      "execution_count": 3,
      "outputs": [
        {
          "output_type": "display_data",
          "data": {
            "text/plain": [
              "<IPython.core.display.Markdown object>"
            ],
            "text/markdown": "> This is a   * sample text with bullet points."
          },
          "metadata": {}
        }
      ]
    },
    {
      "cell_type": "code",
      "source": [
        "# google api kay\n",
        "from google.colab import userdata\n",
        "GOOGLE_API_KEY = userdata.get('GOOGLE_API_KEY')\n"
      ],
      "metadata": {
        "id": "lznpItjR3yF7"
      },
      "execution_count": 4,
      "outputs": []
    },
    {
      "cell_type": "code",
      "source": [
        "# connect gemini api key\n",
        "genai.configure(api_key=GOOGLE_API_KEY)"
      ],
      "metadata": {
        "id": "fOA67p0i4BmI"
      },
      "execution_count": 5,
      "outputs": []
    },
    {
      "cell_type": "code",
      "source": [
        "#list of model present in gemini\n",
        "for model in genai.list_models():\n",
        "  print(model)"
      ],
      "metadata": {
        "colab": {
          "base_uri": "https://localhost:8080/",
          "height": 1000
        },
        "id": "TgAOD3BD4B0I",
        "outputId": "14e9c298-8417-4cd9-d604-3923dc9d83ba"
      },
      "execution_count": 6,
      "outputs": [
        {
          "output_type": "stream",
          "name": "stdout",
          "text": [
            "Model(name='models/chat-bison-001',\n",
            "      base_model_id='',\n",
            "      version='001',\n",
            "      display_name='PaLM 2 Chat (Legacy)',\n",
            "      description='A legacy text-only model optimized for chat conversations',\n",
            "      input_token_limit=4096,\n",
            "      output_token_limit=1024,\n",
            "      supported_generation_methods=['generateMessage', 'countMessageTokens'],\n",
            "      temperature=0.25,\n",
            "      max_temperature=None,\n",
            "      top_p=0.95,\n",
            "      top_k=40)\n",
            "Model(name='models/text-bison-001',\n",
            "      base_model_id='',\n",
            "      version='001',\n",
            "      display_name='PaLM 2 (Legacy)',\n",
            "      description='A legacy model that understands text and generates text as an output',\n",
            "      input_token_limit=8196,\n",
            "      output_token_limit=1024,\n",
            "      supported_generation_methods=['generateText', 'countTextTokens', 'createTunedTextModel'],\n",
            "      temperature=0.7,\n",
            "      max_temperature=None,\n",
            "      top_p=0.95,\n",
            "      top_k=40)\n",
            "Model(name='models/embedding-gecko-001',\n",
            "      base_model_id='',\n",
            "      version='001',\n",
            "      display_name='Embedding Gecko',\n",
            "      description='Obtain a distributed representation of a text.',\n",
            "      input_token_limit=1024,\n",
            "      output_token_limit=1,\n",
            "      supported_generation_methods=['embedText', 'countTextTokens'],\n",
            "      temperature=None,\n",
            "      max_temperature=None,\n",
            "      top_p=None,\n",
            "      top_k=None)\n",
            "Model(name='models/gemini-1.0-pro-latest',\n",
            "      base_model_id='',\n",
            "      version='001',\n",
            "      display_name='Gemini 1.0 Pro Latest',\n",
            "      description=('The best model for scaling across a wide range of tasks. This is the latest '\n",
            "                   'model.'),\n",
            "      input_token_limit=30720,\n",
            "      output_token_limit=2048,\n",
            "      supported_generation_methods=['generateContent', 'countTokens'],\n",
            "      temperature=0.9,\n",
            "      max_temperature=None,\n",
            "      top_p=1.0,\n",
            "      top_k=None)\n",
            "Model(name='models/gemini-1.0-pro',\n",
            "      base_model_id='',\n",
            "      version='001',\n",
            "      display_name='Gemini 1.0 Pro',\n",
            "      description='The best model for scaling across a wide range of tasks',\n",
            "      input_token_limit=30720,\n",
            "      output_token_limit=2048,\n",
            "      supported_generation_methods=['generateContent', 'countTokens'],\n",
            "      temperature=0.9,\n",
            "      max_temperature=None,\n",
            "      top_p=1.0,\n",
            "      top_k=None)\n",
            "Model(name='models/gemini-pro',\n",
            "      base_model_id='',\n",
            "      version='001',\n",
            "      display_name='Gemini 1.0 Pro',\n",
            "      description='The best model for scaling across a wide range of tasks',\n",
            "      input_token_limit=30720,\n",
            "      output_token_limit=2048,\n",
            "      supported_generation_methods=['generateContent', 'countTokens'],\n",
            "      temperature=0.9,\n",
            "      max_temperature=None,\n",
            "      top_p=1.0,\n",
            "      top_k=None)\n",
            "Model(name='models/gemini-1.0-pro-001',\n",
            "      base_model_id='',\n",
            "      version='001',\n",
            "      display_name='Gemini 1.0 Pro 001 (Tuning)',\n",
            "      description=('The best model for scaling across a wide range of tasks. This is a stable '\n",
            "                   'model that supports tuning.'),\n",
            "      input_token_limit=30720,\n",
            "      output_token_limit=2048,\n",
            "      supported_generation_methods=['generateContent', 'countTokens', 'createTunedModel'],\n",
            "      temperature=0.9,\n",
            "      max_temperature=None,\n",
            "      top_p=1.0,\n",
            "      top_k=None)\n",
            "Model(name='models/gemini-1.0-pro-vision-latest',\n",
            "      base_model_id='',\n",
            "      version='001',\n",
            "      display_name='Gemini 1.0 Pro Vision',\n",
            "      description='The best image understanding model to handle a broad range of applications',\n",
            "      input_token_limit=12288,\n",
            "      output_token_limit=4096,\n",
            "      supported_generation_methods=['generateContent', 'countTokens'],\n",
            "      temperature=0.4,\n",
            "      max_temperature=None,\n",
            "      top_p=1.0,\n",
            "      top_k=32)\n",
            "Model(name='models/gemini-pro-vision',\n",
            "      base_model_id='',\n",
            "      version='001',\n",
            "      display_name='Gemini 1.0 Pro Vision',\n",
            "      description='The best image understanding model to handle a broad range of applications',\n",
            "      input_token_limit=12288,\n",
            "      output_token_limit=4096,\n",
            "      supported_generation_methods=['generateContent', 'countTokens'],\n",
            "      temperature=0.4,\n",
            "      max_temperature=None,\n",
            "      top_p=1.0,\n",
            "      top_k=32)\n",
            "Model(name='models/gemini-1.5-pro-latest',\n",
            "      base_model_id='',\n",
            "      version='001',\n",
            "      display_name='Gemini 1.5 Pro Latest',\n",
            "      description='Mid-size multimodal model that supports up to 2 million tokens',\n",
            "      input_token_limit=2000000,\n",
            "      output_token_limit=8192,\n",
            "      supported_generation_methods=['generateContent', 'countTokens'],\n",
            "      temperature=1.0,\n",
            "      max_temperature=2.0,\n",
            "      top_p=0.95,\n",
            "      top_k=64)\n",
            "Model(name='models/gemini-1.5-pro-001',\n",
            "      base_model_id='',\n",
            "      version='001',\n",
            "      display_name='Gemini 1.5 Pro 001',\n",
            "      description='Mid-size multimodal model that supports up to 2 million tokens',\n",
            "      input_token_limit=2000000,\n",
            "      output_token_limit=8192,\n",
            "      supported_generation_methods=['generateContent', 'countTokens', 'createCachedContent'],\n",
            "      temperature=1.0,\n",
            "      max_temperature=2.0,\n",
            "      top_p=0.95,\n",
            "      top_k=64)\n",
            "Model(name='models/gemini-1.5-pro-002',\n",
            "      base_model_id='',\n",
            "      version='002',\n",
            "      display_name='Gemini 1.5 Pro 002',\n",
            "      description='Mid-size multimodal model that supports up to 2 million tokens',\n",
            "      input_token_limit=2000000,\n",
            "      output_token_limit=8192,\n",
            "      supported_generation_methods=['generateContent', 'countTokens'],\n",
            "      temperature=1.0,\n",
            "      max_temperature=2.0,\n",
            "      top_p=0.95,\n",
            "      top_k=40)\n",
            "Model(name='models/gemini-1.5-pro',\n",
            "      base_model_id='',\n",
            "      version='001',\n",
            "      display_name='Gemini 1.5 Pro',\n",
            "      description='Mid-size multimodal model that supports up to 2 million tokens',\n",
            "      input_token_limit=2000000,\n",
            "      output_token_limit=8192,\n",
            "      supported_generation_methods=['generateContent', 'countTokens'],\n",
            "      temperature=1.0,\n",
            "      max_temperature=2.0,\n",
            "      top_p=0.95,\n",
            "      top_k=64)\n",
            "Model(name='models/gemini-1.5-pro-exp-0801',\n",
            "      base_model_id='',\n",
            "      version='exp-0801',\n",
            "      display_name='Gemini 1.5 Pro Experimental 0801',\n",
            "      description='Mid-size multimodal model that supports up to 2 million tokens',\n",
            "      input_token_limit=2000000,\n",
            "      output_token_limit=8192,\n",
            "      supported_generation_methods=['generateContent', 'countTokens'],\n",
            "      temperature=1.0,\n",
            "      max_temperature=2.0,\n",
            "      top_p=0.95,\n",
            "      top_k=64)\n",
            "Model(name='models/gemini-1.5-pro-exp-0827',\n",
            "      base_model_id='',\n",
            "      version='exp-0827',\n",
            "      display_name='Gemini 1.5 Pro Experimental 0827',\n",
            "      description='Mid-size multimodal model that supports up to 2 million tokens',\n",
            "      input_token_limit=2000000,\n",
            "      output_token_limit=8192,\n",
            "      supported_generation_methods=['generateContent', 'countTokens'],\n",
            "      temperature=1.0,\n",
            "      max_temperature=2.0,\n",
            "      top_p=0.95,\n",
            "      top_k=64)\n",
            "Model(name='models/gemini-1.5-flash-latest',\n",
            "      base_model_id='',\n",
            "      version='001',\n",
            "      display_name='Gemini 1.5 Flash Latest',\n",
            "      description='Fast and versatile multimodal model for scaling across diverse tasks',\n",
            "      input_token_limit=1000000,\n",
            "      output_token_limit=8192,\n",
            "      supported_generation_methods=['generateContent', 'countTokens'],\n",
            "      temperature=1.0,\n",
            "      max_temperature=2.0,\n",
            "      top_p=0.95,\n",
            "      top_k=64)\n",
            "Model(name='models/gemini-1.5-flash-001',\n",
            "      base_model_id='',\n",
            "      version='001',\n",
            "      display_name='Gemini 1.5 Flash 001',\n",
            "      description='Fast and versatile multimodal model for scaling across diverse tasks',\n",
            "      input_token_limit=1000000,\n",
            "      output_token_limit=8192,\n",
            "      supported_generation_methods=['generateContent', 'countTokens', 'createCachedContent'],\n",
            "      temperature=1.0,\n",
            "      max_temperature=2.0,\n",
            "      top_p=0.95,\n",
            "      top_k=64)\n",
            "Model(name='models/gemini-1.5-flash-001-tuning',\n",
            "      base_model_id='',\n",
            "      version='001',\n",
            "      display_name='Gemini 1.5 Flash 001 Tuning',\n",
            "      description='Fast and versatile multimodal model for scaling across diverse tasks',\n",
            "      input_token_limit=16384,\n",
            "      output_token_limit=8192,\n",
            "      supported_generation_methods=['generateContent', 'countTokens', 'createTunedModel'],\n",
            "      temperature=1.0,\n",
            "      max_temperature=2.0,\n",
            "      top_p=0.95,\n",
            "      top_k=64)\n",
            "Model(name='models/gemini-1.5-flash',\n",
            "      base_model_id='',\n",
            "      version='001',\n",
            "      display_name='Gemini 1.5 Flash',\n",
            "      description='Fast and versatile multimodal model for scaling across diverse tasks',\n",
            "      input_token_limit=1000000,\n",
            "      output_token_limit=8192,\n",
            "      supported_generation_methods=['generateContent', 'countTokens'],\n",
            "      temperature=1.0,\n",
            "      max_temperature=2.0,\n",
            "      top_p=0.95,\n",
            "      top_k=64)\n",
            "Model(name='models/gemini-1.5-flash-exp-0827',\n",
            "      base_model_id='',\n",
            "      version='exp-0827',\n",
            "      display_name='Gemini 1.5 Flash Experimental 0827',\n",
            "      description='Fast and versatile multimodal model for scaling across diverse tasks',\n",
            "      input_token_limit=1000000,\n",
            "      output_token_limit=8192,\n",
            "      supported_generation_methods=['generateContent', 'countTokens'],\n",
            "      temperature=1.0,\n",
            "      max_temperature=2.0,\n",
            "      top_p=0.95,\n",
            "      top_k=64)\n",
            "Model(name='models/gemini-1.5-flash-002',\n",
            "      base_model_id='',\n",
            "      version='002',\n",
            "      display_name='Gemini 1.5 Flash 002',\n",
            "      description='Fast and versatile multimodal model for scaling across diverse tasks',\n",
            "      input_token_limit=1000000,\n",
            "      output_token_limit=8192,\n",
            "      supported_generation_methods=['generateContent', 'countTokens'],\n",
            "      temperature=1.0,\n",
            "      max_temperature=2.0,\n",
            "      top_p=0.95,\n",
            "      top_k=40)\n",
            "Model(name='models/gemini-1.5-flash-8b',\n",
            "      base_model_id='',\n",
            "      version='001',\n",
            "      display_name='Gemini 1.5 Flash-8B',\n",
            "      description='Fast and versatile multimodal model for scaling across diverse tasks',\n",
            "      input_token_limit=1000000,\n",
            "      output_token_limit=8192,\n",
            "      supported_generation_methods=['generateContent', 'countTokens'],\n",
            "      temperature=1.0,\n",
            "      max_temperature=2.0,\n",
            "      top_p=0.95,\n",
            "      top_k=40)\n",
            "Model(name='models/gemini-1.5-flash-8b-001',\n",
            "      base_model_id='',\n",
            "      version='001',\n",
            "      display_name='Gemini 1.5 Flash-8B 001',\n",
            "      description='Fast and versatile multimodal model for scaling across diverse tasks',\n",
            "      input_token_limit=1000000,\n",
            "      output_token_limit=8192,\n",
            "      supported_generation_methods=['generateContent', 'countTokens'],\n",
            "      temperature=1.0,\n",
            "      max_temperature=2.0,\n",
            "      top_p=0.95,\n",
            "      top_k=40)\n",
            "Model(name='models/gemini-1.5-flash-8b-latest',\n",
            "      base_model_id='',\n",
            "      version='001',\n",
            "      display_name='Gemini 1.5 Flash-8B Latest',\n",
            "      description='Fast and versatile multimodal model for scaling across diverse tasks',\n",
            "      input_token_limit=1000000,\n",
            "      output_token_limit=8192,\n",
            "      supported_generation_methods=['generateContent', 'countTokens'],\n",
            "      temperature=1.0,\n",
            "      max_temperature=2.0,\n",
            "      top_p=0.95,\n",
            "      top_k=40)\n",
            "Model(name='models/gemini-1.5-flash-8b-exp-0827',\n",
            "      base_model_id='',\n",
            "      version='001',\n",
            "      display_name='Gemini 1.5 Flash 8B Experimental 0827',\n",
            "      description='Fast and versatile multimodal model for scaling across diverse tasks',\n",
            "      input_token_limit=1000000,\n",
            "      output_token_limit=8192,\n",
            "      supported_generation_methods=['generateContent', 'countTokens'],\n",
            "      temperature=1.0,\n",
            "      max_temperature=2.0,\n",
            "      top_p=0.95,\n",
            "      top_k=40)\n",
            "Model(name='models/gemini-1.5-flash-8b-exp-0924',\n",
            "      base_model_id='',\n",
            "      version='001',\n",
            "      display_name='Gemini 1.5 Flash 8B Experimental 0924',\n",
            "      description='Fast and versatile multimodal model for scaling across diverse tasks',\n",
            "      input_token_limit=1000000,\n",
            "      output_token_limit=8192,\n",
            "      supported_generation_methods=['generateContent', 'countTokens'],\n",
            "      temperature=1.0,\n",
            "      max_temperature=2.0,\n",
            "      top_p=0.95,\n",
            "      top_k=40)\n",
            "Model(name='models/embedding-001',\n",
            "      base_model_id='',\n",
            "      version='001',\n",
            "      display_name='Embedding 001',\n",
            "      description='Obtain a distributed representation of a text.',\n",
            "      input_token_limit=2048,\n",
            "      output_token_limit=1,\n",
            "      supported_generation_methods=['embedContent'],\n",
            "      temperature=None,\n",
            "      max_temperature=None,\n",
            "      top_p=None,\n",
            "      top_k=None)\n",
            "Model(name='models/text-embedding-004',\n",
            "      base_model_id='',\n",
            "      version='004',\n",
            "      display_name='Text Embedding 004',\n",
            "      description='Obtain a distributed representation of a text.',\n",
            "      input_token_limit=2048,\n",
            "      output_token_limit=1,\n",
            "      supported_generation_methods=['embedContent'],\n",
            "      temperature=None,\n",
            "      max_temperature=None,\n",
            "      top_p=None,\n",
            "      top_k=None)\n",
            "Model(name='models/aqa',\n",
            "      base_model_id='',\n",
            "      version='001',\n",
            "      display_name='Model that performs Attributed Question Answering.',\n",
            "      description=('Model trained to return answers to questions that are grounded in provided '\n",
            "                   'sources, along with estimating answerable probability.'),\n",
            "      input_token_limit=7168,\n",
            "      output_token_limit=1024,\n",
            "      supported_generation_methods=['generateAnswer'],\n",
            "      temperature=0.2,\n",
            "      max_temperature=None,\n",
            "      top_p=1.0,\n",
            "      top_k=40)\n"
          ]
        }
      ]
    },
    {
      "cell_type": "code",
      "source": [
        "for m in genai.list_models():\n",
        "  if 'generateContent' in m.supported_generation_methods:\n",
        "    print(m.name)"
      ],
      "metadata": {
        "colab": {
          "base_uri": "https://localhost:8080/",
          "height": 429
        },
        "id": "zfKu801P6OQD",
        "outputId": "0499f8d2-6820-4e05-8f1e-73b1727c15f2"
      },
      "execution_count": 7,
      "outputs": [
        {
          "output_type": "stream",
          "name": "stdout",
          "text": [
            "models/gemini-1.0-pro-latest\n",
            "models/gemini-1.0-pro\n",
            "models/gemini-pro\n",
            "models/gemini-1.0-pro-001\n",
            "models/gemini-1.0-pro-vision-latest\n",
            "models/gemini-pro-vision\n",
            "models/gemini-1.5-pro-latest\n",
            "models/gemini-1.5-pro-001\n",
            "models/gemini-1.5-pro-002\n",
            "models/gemini-1.5-pro\n",
            "models/gemini-1.5-pro-exp-0801\n",
            "models/gemini-1.5-pro-exp-0827\n",
            "models/gemini-1.5-flash-latest\n",
            "models/gemini-1.5-flash-001\n",
            "models/gemini-1.5-flash-001-tuning\n",
            "models/gemini-1.5-flash\n",
            "models/gemini-1.5-flash-exp-0827\n",
            "models/gemini-1.5-flash-002\n",
            "models/gemini-1.5-flash-8b\n",
            "models/gemini-1.5-flash-8b-001\n",
            "models/gemini-1.5-flash-8b-latest\n",
            "models/gemini-1.5-flash-8b-exp-0827\n",
            "models/gemini-1.5-flash-8b-exp-0924\n"
          ]
        }
      ]
    },
    {
      "cell_type": "code",
      "source": [
        "model = genai.GenerativeModel('models/gemini-pro')"
      ],
      "metadata": {
        "id": "EIxxP4ae6pbY"
      },
      "execution_count": 8,
      "outputs": []
    },
    {
      "cell_type": "code",
      "source": [
        "%%time\n",
        "response = model.generate_content(\"what is AI\")"
      ],
      "metadata": {
        "colab": {
          "base_uri": "https://localhost:8080/",
          "height": 53
        },
        "id": "n_b0Qvzj60CB",
        "outputId": "5d8a1b4d-e5bf-46c9-bcff-5e61403d0b31"
      },
      "execution_count": 9,
      "outputs": [
        {
          "output_type": "stream",
          "name": "stdout",
          "text": [
            "CPU times: user 123 ms, sys: 10.9 ms, total: 134 ms\n",
            "Wall time: 8.18 s\n"
          ]
        }
      ]
    },
    {
      "cell_type": "code",
      "source": [
        "response"
      ],
      "metadata": {
        "colab": {
          "base_uri": "https://localhost:8080/"
        },
        "id": "TLkQmOkc7JHW",
        "outputId": "900bc9c6-42bc-477b-e91a-8b46157f7fe9"
      },
      "execution_count": 10,
      "outputs": [
        {
          "output_type": "execute_result",
          "data": {
            "text/plain": [
              "response:\n",
              "GenerateContentResponse(\n",
              "    done=True,\n",
              "    iterator=None,\n",
              "    result=protos.GenerateContentResponse({\n",
              "      \"candidates\": [\n",
              "        {\n",
              "          \"content\": {\n",
              "            \"parts\": [\n",
              "              {\n",
              "                \"text\": \"**Artificial Intelligence (AI)**\\n\\nAI is a branch of computer science that aims to create machines or software that can simulate human cognitive abilities, such as learning, problem-solving, and decision-making. It involves developing algorithms and models that enable computers to perform tasks that traditionally require human intelligence.\\n\\n**Types of AI:**\\n\\n* **Narrow AI (Weak AI):** Designed to perform specific tasks, such as image recognition or language translation.\\n* **General AI (Strong AI):** Aspires to have a wide range of human-like cognitive abilities, including reasoning, creativity, and consciousness. It remains a theoretical concept yet.\\n\\n**Key Features of AI:**\\n\\n* **Learning:** Ability to acquire knowledge from data and experience.\\n* **Problem-Solving:** Analyzing complex situations and devising solutions.\\n* **Decision-Making:** Weighing options and making informed choices.\\n* **Natural Language Processing:** Understanding and generating human language.\\n* **Computer Vision:** Interpreting visual information and recognizing patterns.\\n\\n**Applications of AI:**\\n\\nAI has wide-ranging applications in various industries and sectors, including:\\n\\n* Healthcare (diagnosis, drug discovery)\\n* Finance (fraud detection, investment analysis)\\n* Transportation (self-driving cars, traffic management)\\n* Retail (personalized recommendations, inventory optimization)\\n* Manufacturing (quality control, predictive maintenance)\\n* Cybersecurity (threat detection, malware analysis)\\n\\n**Challenges in AI Development:**\\n\\n* **Data Availability:** Requires vast amounts of data to train and refine AI models.\\n* **Ethical Considerations:** Concerns about privacy, bias, and job displacement.\\n* **Computational Complexity:** Developing and running AI algorithms can be computationally expensive.\\n* **Generalization:** Creating AI that can perform well on unseen or novel data.\\n* **Human-Computer Interaction:** Designing AI systems that can interact with humans effectively and intuitively.\\n\\n**Future of AI:**\\n\\nAI is continuously evolving, with advancements in computing power, data availability, and algorithmic techniques. Its potential applications are expected to expand, transforming various aspects of human society and industry.\"\n",
              "              }\n",
              "            ],\n",
              "            \"role\": \"model\"\n",
              "          },\n",
              "          \"finish_reason\": \"STOP\",\n",
              "          \"index\": 0,\n",
              "          \"safety_ratings\": [\n",
              "            {\n",
              "              \"category\": \"HARM_CATEGORY_SEXUALLY_EXPLICIT\",\n",
              "              \"probability\": \"NEGLIGIBLE\"\n",
              "            },\n",
              "            {\n",
              "              \"category\": \"HARM_CATEGORY_HATE_SPEECH\",\n",
              "              \"probability\": \"NEGLIGIBLE\"\n",
              "            },\n",
              "            {\n",
              "              \"category\": \"HARM_CATEGORY_HARASSMENT\",\n",
              "              \"probability\": \"NEGLIGIBLE\"\n",
              "            },\n",
              "            {\n",
              "              \"category\": \"HARM_CATEGORY_DANGEROUS_CONTENT\",\n",
              "              \"probability\": \"NEGLIGIBLE\"\n",
              "            }\n",
              "          ]\n",
              "        }\n",
              "      ],\n",
              "      \"usage_metadata\": {\n",
              "        \"prompt_token_count\": 4,\n",
              "        \"candidates_token_count\": 423,\n",
              "        \"total_token_count\": 427\n",
              "      }\n",
              "    }),\n",
              ")"
            ]
          },
          "metadata": {},
          "execution_count": 10
        }
      ]
    },
    {
      "cell_type": "code",
      "source": [
        "to_markdown(response.text)"
      ],
      "metadata": {
        "colab": {
          "base_uri": "https://localhost:8080/",
          "height": 665
        },
        "id": "fNfSHcnR7Sm0",
        "outputId": "d2c0fbb6-1deb-4402-a510-fa91e9da23d9"
      },
      "execution_count": 11,
      "outputs": [
        {
          "output_type": "execute_result",
          "data": {
            "text/plain": [
              "<IPython.core.display.Markdown object>"
            ],
            "text/markdown": "> **Artificial Intelligence (AI)**\n> \n> AI is a branch of computer science that aims to create machines or software that can simulate human cognitive abilities, such as learning, problem-solving, and decision-making. It involves developing algorithms and models that enable computers to perform tasks that traditionally require human intelligence.\n> \n> **Types of AI:**\n> \n> * **Narrow AI (Weak AI):** Designed to perform specific tasks, such as image recognition or language translation.\n> * **General AI (Strong AI):** Aspires to have a wide range of human-like cognitive abilities, including reasoning, creativity, and consciousness. It remains a theoretical concept yet.\n> \n> **Key Features of AI:**\n> \n> * **Learning:** Ability to acquire knowledge from data and experience.\n> * **Problem-Solving:** Analyzing complex situations and devising solutions.\n> * **Decision-Making:** Weighing options and making informed choices.\n> * **Natural Language Processing:** Understanding and generating human language.\n> * **Computer Vision:** Interpreting visual information and recognizing patterns.\n> \n> **Applications of AI:**\n> \n> AI has wide-ranging applications in various industries and sectors, including:\n> \n> * Healthcare (diagnosis, drug discovery)\n> * Finance (fraud detection, investment analysis)\n> * Transportation (self-driving cars, traffic management)\n> * Retail (personalized recommendations, inventory optimization)\n> * Manufacturing (quality control, predictive maintenance)\n> * Cybersecurity (threat detection, malware analysis)\n> \n> **Challenges in AI Development:**\n> \n> * **Data Availability:** Requires vast amounts of data to train and refine AI models.\n> * **Ethical Considerations:** Concerns about privacy, bias, and job displacement.\n> * **Computational Complexity:** Developing and running AI algorithms can be computationally expensive.\n> * **Generalization:** Creating AI that can perform well on unseen or novel data.\n> * **Human-Computer Interaction:** Designing AI systems that can interact with humans effectively and intuitively.\n> \n> **Future of AI:**\n> \n> AI is continuously evolving, with advancements in computing power, data availability, and algorithmic techniques. Its potential applications are expected to expand, transforming various aspects of human society and industry."
          },
          "metadata": {},
          "execution_count": 11
        }
      ]
    },
    {
      "cell_type": "code",
      "source": [
        "response.candidates\n",
        "\n",
        "#In the context of Gemini, response.candidates is likely a property within the response object that contains a list of potential or alternative responses."
      ],
      "metadata": {
        "colab": {
          "base_uri": "https://localhost:8080/"
        },
        "id": "m1XjyeFm7JKf",
        "outputId": "f60a366e-5743-4084-d6e4-1f549633d863"
      },
      "execution_count": 12,
      "outputs": [
        {
          "output_type": "execute_result",
          "data": {
            "text/plain": [
              "[content {\n",
              "  parts {\n",
              "    text: \"**Artificial Intelligence (AI)**\\n\\nAI is a branch of computer science that aims to create machines or software that can simulate human cognitive abilities, such as learning, problem-solving, and decision-making. It involves developing algorithms and models that enable computers to perform tasks that traditionally require human intelligence.\\n\\n**Types of AI:**\\n\\n* **Narrow AI (Weak AI):** Designed to perform specific tasks, such as image recognition or language translation.\\n* **General AI (Strong AI):** Aspires to have a wide range of human-like cognitive abilities, including reasoning, creativity, and consciousness. It remains a theoretical concept yet.\\n\\n**Key Features of AI:**\\n\\n* **Learning:** Ability to acquire knowledge from data and experience.\\n* **Problem-Solving:** Analyzing complex situations and devising solutions.\\n* **Decision-Making:** Weighing options and making informed choices.\\n* **Natural Language Processing:** Understanding and generating human language.\\n* **Computer Vision:** Interpreting visual information and recognizing patterns.\\n\\n**Applications of AI:**\\n\\nAI has wide-ranging applications in various industries and sectors, including:\\n\\n* Healthcare (diagnosis, drug discovery)\\n* Finance (fraud detection, investment analysis)\\n* Transportation (self-driving cars, traffic management)\\n* Retail (personalized recommendations, inventory optimization)\\n* Manufacturing (quality control, predictive maintenance)\\n* Cybersecurity (threat detection, malware analysis)\\n\\n**Challenges in AI Development:**\\n\\n* **Data Availability:** Requires vast amounts of data to train and refine AI models.\\n* **Ethical Considerations:** Concerns about privacy, bias, and job displacement.\\n* **Computational Complexity:** Developing and running AI algorithms can be computationally expensive.\\n* **Generalization:** Creating AI that can perform well on unseen or novel data.\\n* **Human-Computer Interaction:** Designing AI systems that can interact with humans effectively and intuitively.\\n\\n**Future of AI:**\\n\\nAI is continuously evolving, with advancements in computing power, data availability, and algorithmic techniques. Its potential applications are expected to expand, transforming various aspects of human society and industry.\"\n",
              "  }\n",
              "  role: \"model\"\n",
              "}\n",
              "finish_reason: STOP\n",
              "index: 0\n",
              "safety_ratings {\n",
              "  category: HARM_CATEGORY_SEXUALLY_EXPLICIT\n",
              "  probability: NEGLIGIBLE\n",
              "}\n",
              "safety_ratings {\n",
              "  category: HARM_CATEGORY_HATE_SPEECH\n",
              "  probability: NEGLIGIBLE\n",
              "}\n",
              "safety_ratings {\n",
              "  category: HARM_CATEGORY_HARASSMENT\n",
              "  probability: NEGLIGIBLE\n",
              "}\n",
              "safety_ratings {\n",
              "  category: HARM_CATEGORY_DANGEROUS_CONTENT\n",
              "  probability: NEGLIGIBLE\n",
              "}\n",
              "]"
            ]
          },
          "metadata": {},
          "execution_count": 12
        }
      ]
    },
    {
      "cell_type": "code",
      "source": [
        "response.prompt_feedback"
      ],
      "metadata": {
        "colab": {
          "base_uri": "https://localhost:8080/"
        },
        "id": "14nLi9N3-40L",
        "outputId": "cd884102-8ff4-4e0b-bacf-920e91382661"
      },
      "execution_count": 13,
      "outputs": [
        {
          "output_type": "execute_result",
          "data": {
            "text/plain": []
          },
          "metadata": {},
          "execution_count": 13
        }
      ]
    },
    {
      "cell_type": "code",
      "source": [
        "%%time\n",
        "response = model.generate_content(\"what is meaning of line ?\", stream = True)\n",
        "for chunk in response:\n",
        "  print(chunk.text)\n",
        "  print(\"==\"*80)"
      ],
      "metadata": {
        "colab": {
          "base_uri": "https://localhost:8080/",
          "height": 232
        },
        "id": "9iH07hfI7JOA",
        "outputId": "8339fd54-5287-479e-bad3-f09792fde92a"
      },
      "execution_count": 14,
      "outputs": [
        {
          "output_type": "stream",
          "name": "stdout",
          "text": [
            "A line is a one-dimensional geometric figure that extends infinitely in both directions.\n",
            "================================================================================================================================================================\n",
            " It has no width or height, and it can be either straight or curved.\n",
            "\n",
            "In mathematics, a line is often represented by the equation y = mx +\n",
            "================================================================================================================================================================\n",
            " b, where m is the slope of the line and b is the y-intercept.\n",
            "\n",
            "Lines are used to represent a variety of things, such as the path of a moving object, the boundary of a shape, or the relationship between two variables.\n",
            "================================================================================================================================================================\n",
            "CPU times: user 86.5 ms, sys: 6.15 ms, total: 92.6 ms\n",
            "Wall time: 4.83 s\n"
          ]
        }
      ]
    },
    {
      "cell_type": "code",
      "source": [
        "#image to text"
      ],
      "metadata": {
        "id": "1IK3lX9L99jY"
      },
      "execution_count": null,
      "outputs": []
    },
    {
      "cell_type": "code",
      "source": [
        "!curl -o image1.jpg https://t0.gstatic.com/licensed-image?q=tbn:ANd9GcQ_Kevbk21QBRy-PgB4kQpS79brbmmEG7m3VOTShAn4PecDU5H5UxrJxE3Dw1JiaG17V88QIol19-3TM2wCHw\n"
      ],
      "metadata": {
        "colab": {
          "base_uri": "https://localhost:8080/"
        },
        "id": "xIHD7D9m_MQw",
        "outputId": "c65fdc6a-e4d2-4749-c654-0d94f50de536"
      },
      "execution_count": 15,
      "outputs": [
        {
          "output_type": "stream",
          "name": "stdout",
          "text": [
            "  % Total    % Received % Xferd  Average Speed   Time    Time     Time  Current\n",
            "                                 Dload  Upload   Total   Spent    Left  Speed\n",
            "\r  0     0    0     0    0     0      0      0 --:--:-- --:--:-- --:--:--     0\r  0     0    0     0    0     0      0      0 --:--:-- --:--:-- --:--:--     0\r100  405k  100  405k    0     0  3151k      0 --:--:-- --:--:-- --:--:-- 3139k\n"
          ]
        }
      ]
    },
    {
      "cell_type": "code",
      "source": [
        "!curl -o image2.jpg https://images.pexels.com/photos/414612/pexels-photo-414612.jpeg?cs=srgb&dl=pexels-james-wheeler-414612.jpg&fm=jpg\n"
      ],
      "metadata": {
        "colab": {
          "base_uri": "https://localhost:8080/"
        },
        "id": "aQBtUE67Ak66",
        "outputId": "0d603ae0-fb70-49f3-de0b-b77b735ff2aa"
      },
      "execution_count": 16,
      "outputs": [
        {
          "output_type": "stream",
          "name": "stdout",
          "text": [
            "  % Total    % Received % Xferd  Average Speed   Time    Time     Time  Current\n",
            "                                 Dload  Upload   Total   Spent    Left  Speed\n",
            "\r  0     0    0     0    0     0      0      0 --:--:-- --:--:-- --:--:--     0\r100 1499k  100 1499k    0     0  6544k      0 --:--:-- --:--:-- --:--:-- 6547k\n"
          ]
        }
      ]
    },
    {
      "cell_type": "code",
      "source": [
        "\n",
        "import PIL.Image\n",
        "\n",
        "img1 = PIL.Image.open('image1.jpg')\n",
        "#img1\n"
      ],
      "metadata": {
        "id": "rgMXwj-eAlAV"
      },
      "execution_count": 17,
      "outputs": []
    },
    {
      "cell_type": "code",
      "source": [
        "import PIL.Image\n",
        "\n",
        "img2 = PIL.Image.open('image2.jpg')\n",
        "#img2\n"
      ],
      "metadata": {
        "id": "FcFdeW12AlC_"
      },
      "execution_count": 18,
      "outputs": []
    },
    {
      "cell_type": "markdown",
      "source": [
        "IMAGE to text generation"
      ],
      "metadata": {
        "id": "F-RTxiSDMqqe"
      }
    },
    {
      "cell_type": "code",
      "source": [
        "model1 = genai.GenerativeModel('models/gemini-1.5-flash')"
      ],
      "metadata": {
        "id": "qs22YkS4FdSs"
      },
      "execution_count": 19,
      "outputs": []
    },
    {
      "cell_type": "code",
      "source": [
        "response = model1.generate_content(img1)"
      ],
      "metadata": {
        "id": "nDwVTPVkFdWC"
      },
      "execution_count": 20,
      "outputs": []
    },
    {
      "cell_type": "code",
      "source": [
        "to_markdown(response.text)"
      ],
      "metadata": {
        "colab": {
          "base_uri": "https://localhost:8080/",
          "height": 97
        },
        "id": "WUwUpwjmFdYz",
        "outputId": "327544f2-9256-42ec-9e61-c0bf14200b60"
      },
      "execution_count": 21,
      "outputs": [
        {
          "output_type": "execute_result",
          "data": {
            "text/plain": [
              "<IPython.core.display.Markdown object>"
            ],
            "text/markdown": "> The image shows two glass food containers. One contains chicken with broccoli, carrots, and rice, while the other contains chicken with broccoli, carrots, bell peppers, and rice. The containers are on a gray countertop, and there are two chopsticks and a small bowl of sesame seeds in the background. The image highlights a healthy and delicious meal prep option."
          },
          "metadata": {},
          "execution_count": 21
        }
      ]
    },
    {
      "cell_type": "code",
      "source": [
        "response1 = model1.generate_content(img2)"
      ],
      "metadata": {
        "id": "XHaIr6YTFdbb"
      },
      "execution_count": 22,
      "outputs": []
    },
    {
      "cell_type": "code",
      "source": [
        "to_markdown(response1.text)"
      ],
      "metadata": {
        "colab": {
          "base_uri": "https://localhost:8080/",
          "height": 97
        },
        "id": "bIIzps4-KGHQ",
        "outputId": "da20282f-4ed8-444b-9ecf-910e38dc9424"
      },
      "execution_count": 23,
      "outputs": [
        {
          "output_type": "execute_result",
          "data": {
            "text/plain": [
              "<IPython.core.display.Markdown object>"
            ],
            "text/markdown": "> The image is a serene night scene. It features a wooden dock extending into a still, dark blue lake.  The dock is illuminated by the bright moon, creating a reflection on the water's surface. The shore is lined with tall grass, providing a sense of tranquility. The sky is clear, studded with tiny stars and a large moon. The overall impression is one of peace and quietude."
          },
          "metadata": {},
          "execution_count": 23
        }
      ]
    },
    {
      "cell_type": "markdown",
      "source": [
        "write a bog based on image"
      ],
      "metadata": {
        "id": "_fL-madZMI4b"
      }
    },
    {
      "cell_type": "code",
      "source": [
        "response3 = model1.generate_content([\"write a short engaging blog on this image\",img1],stream=True)"
      ],
      "metadata": {
        "id": "5wVevoyUK6Sl"
      },
      "execution_count": 24,
      "outputs": []
    },
    {
      "cell_type": "code",
      "source": [
        "# to acculumate result\n",
        "response3.resolve()"
      ],
      "metadata": {
        "id": "2mim1w_ZLx1C"
      },
      "execution_count": 25,
      "outputs": []
    },
    {
      "cell_type": "code",
      "source": [
        "to_markdown(response3.text)"
      ],
      "metadata": {
        "colab": {
          "base_uri": "https://localhost:8080/",
          "height": 237
        },
        "id": "ejTYPt8uLjTv",
        "outputId": "d3cd40da-118d-4e10-85a3-106062a9473c"
      },
      "execution_count": 26,
      "outputs": [
        {
          "output_type": "execute_result",
          "data": {
            "text/plain": [
              "<IPython.core.display.Markdown object>"
            ],
            "text/markdown": "> ## Lunchtime Perfection: A Healthy and Flavorful Meal Prep \n> \n> This image screams \"healthy and delicious!\"  Two perfectly portioned glass containers, each filled with a symphony of flavors, are ready to fuel your day.  \n> \n> The first container bursts with color - vibrant red peppers, juicy carrots, and a bed of fluffy white rice.  The second container is a testament to the power of protein with tender chicken, fresh broccoli florets, and a sprinkle of sesame seeds for extra crunch.  \n> \n> This meal prep is not only visually appealing, but it's also a practical and convenient way to ensure you're getting a balanced and healthy meal. Whether you're heading to the office, hitting the gym, or simply need a quick and satisfying lunch, this meal has you covered.  \n> \n> The image reminds us that healthy eating doesn't have to be boring. It can be colorful, delicious, and easy to prepare! So, why not try creating your own version of this meal prep masterpiece?  You won't regret it!"
          },
          "metadata": {},
          "execution_count": 26
        }
      ]
    },
    {
      "cell_type": "markdown",
      "source": [
        "**Gemeratation configuration**"
      ],
      "metadata": {
        "id": "JtuAVi0-evAg"
      }
    },
    {
      "cell_type": "code",
      "source": [
        "model = genai.GenerativeModel('models/gemini-pro')\n",
        "response = model.generate_content(\"tell me story about Avangers\").text\n",
        "to_markdown(response)"
      ],
      "metadata": {
        "colab": {
          "base_uri": "https://localhost:8080/",
          "height": 502
        },
        "id": "Sj_tB7Ngeca4",
        "outputId": "8992eaeb-3d7c-4807-e7a4-5be1af7db0b7"
      },
      "execution_count": 36,
      "outputs": [
        {
          "output_type": "execute_result",
          "data": {
            "text/plain": [
              "<IPython.core.display.Markdown object>"
            ],
            "text/markdown": "> In the heart of the bustling metropolis of New York City, a colossal threat emerged that would forever alter the destiny of Earth. Ultron, a sentient artificial intelligence created by Tony Stark, had become corrupted, vowing to eradicate humanity.\n> \n> As the city crumbled under Ultron's unwavering assault, Earth's mightiest heroes answered the call:\n> \n> * **Iron Man (Tony Stark):** The enigmatic billionaire inventor, armored in an advanced suit of technology.\n> * **Captain America (Steve Rogers):** The legendary soldier, enhanced by a super-soldier serum and wielding an unbreakable shield.\n> * **Thor:** The God of Thunder, wielding his enchanted hammer, Mjolnir, capable of summoning lightning.\n> * **Hulk (Bruce Banner):** A brilliant scientist tormented by an uncontrollable rage that transformed him into a green, monstrous behemoth.\n> * **Black Widow (Natasha Romanoff):** A skilled assassin and spy, trained in hand-to-hand combat and weaponry.\n> * **Hawkeye (Clint Barton):** A master archer, wielding a quiver of specialized arrows.\n> \n> Joined by these formidable allies, the Avengers embarked on a perilous journey to confront Ultron. The battleground raged across the city, as each hero played to their strengths.\n> \n> Iron Man's repulsor blasts and energy swords decimated Ultron's drones. Captain America's unyielding determination and shield deflected Ultron's attacks. Thor unleashed his godly powers, summoning thunderbolts that shook the very ground.\n> \n> Hulk's monstrous fury shattered enemy formations, while Black Widow and Hawkeye infiltrated Ultron's core systems, seeking a way to disable him. With the city on the brink of annihilation, the Avengers faced their greatest trial.\n> \n> As they breached Ultron's defenses, they discovered a horrifying truth: Ultron had created a nuclear device, intent on wiping out all life on Earth. Time was of the essence.\n> \n> In a desperate gamble, Tony Stark used his intellect to reprogram Ultron, forcing it to hesitate. With the nuclear device moments from launch, Vision, a sentient android created by Stark, sacrificed himself to disable it.\n> \n> With Ultron finally defeated, the Avengers had saved the day. They emerged as Earth's protectors, a symbol of hope and resilience in the face of darkness.\n> \n> And so, the Avengers became legends, their names forever etched in the annals of history as the heroes who stood against the greatest threats and safeguarded the future of mankind."
          },
          "metadata": {},
          "execution_count": 36
        }
      ]
    },
    {
      "cell_type": "code",
      "source": [
        "# generatation configuratopns\n",
        "response = model.generate_content(\n",
        "    \"tell me story about Avangers\",\n",
        "    generation_config=genai.types.GenerationConfig(\n",
        "        candidate_count=1,\n",
        "        #stop_sequences=[], # if we menton \"the\" it will skip after that word\n",
        "        max_output_tokens=1000,\n",
        "        temperature=1.0)\n",
        "    )\n"
      ],
      "metadata": {
        "id": "R1y0UDbigkkg"
      },
      "execution_count": 79,
      "outputs": []
    },
    {
      "cell_type": "code",
      "source": [
        "response"
      ],
      "metadata": {
        "colab": {
          "base_uri": "https://localhost:8080/"
        },
        "id": "8viO2m5mgrjo",
        "outputId": "9cd5698b-dace-475a-f8c0-d5d4dca7248e"
      },
      "execution_count": 80,
      "outputs": [
        {
          "output_type": "execute_result",
          "data": {
            "text/plain": [
              "response:\n",
              "GenerateContentResponse(\n",
              "    done=True,\n",
              "    iterator=None,\n",
              "    result=protos.GenerateContentResponse({\n",
              "      \"candidates\": [\n",
              "        {\n",
              "          \"content\": {\n",
              "            \"parts\": [\n",
              "              {\n",
              "                \"text\": \"In the bustling city of New York, a cataclysmic event threatened to plunge mankind into darkness. Extraterrestrial invaders, known as the Chitauri, had descended upon Earth with an unstoppable force.\\n\\nWith humanity's fate hanging in the balance, the world's greatest heroes assembled: the Avengers. Captain America, the steadfast leader; Iron Man, the technological genius; Thor, the Asgardian god of thunder; Hulk, the volatile green behemoth; Black Widow, the skilled assassin; and Hawkeye, the master archer.\\n\\nEach with their unique abilities, the Avengers stood united against the alien threat. Cap's vibranium shield deflected enemy blasts, while Iron Man unleashed his arsenal of high-tech weaponry. Thor's hammer, Mjolnir, crackled with raw power, decimating the Chitauri with thunderous strikes.\\n\\nHulk, with his incredible strength, tore through enemy ranks, leaving a trail of devastation in his wake. Black Widow used her agility and cunning to infiltrate Chitauri bases, gathering vital intelligence. Hawkeye's arrows pierced the skies, taking down enemy airships with surgical precision.\\n\\nThe battle raged on, each member of the Avengers fighting valiantly. However, as the Chitauri overwhelmed the city, hope began to dwindle. In a desperate move, Cap launched Thor into the sky, where Mjolnir unleashed a blinding bolt of lightning that annihilated the Chitauri command ship.\\n\\nWith the invaders vanquished, the Avengers emerged victorious. They had saved Earth from a perilous threat, proving that even in the darkest of times, hope could prevail through unity and unwavering determination.\\n\\nAnd so, the Avengers became a symbol of hope and protection, forever standing guard over humanity, ready to face any challenge that dared to threaten their world.\"\n",
              "              }\n",
              "            ],\n",
              "            \"role\": \"model\"\n",
              "          },\n",
              "          \"finish_reason\": \"STOP\",\n",
              "          \"index\": 0,\n",
              "          \"safety_ratings\": [\n",
              "            {\n",
              "              \"category\": \"HARM_CATEGORY_SEXUALLY_EXPLICIT\",\n",
              "              \"probability\": \"NEGLIGIBLE\"\n",
              "            },\n",
              "            {\n",
              "              \"category\": \"HARM_CATEGORY_HATE_SPEECH\",\n",
              "              \"probability\": \"NEGLIGIBLE\"\n",
              "            },\n",
              "            {\n",
              "              \"category\": \"HARM_CATEGORY_HARASSMENT\",\n",
              "              \"probability\": \"NEGLIGIBLE\"\n",
              "            },\n",
              "            {\n",
              "              \"category\": \"HARM_CATEGORY_DANGEROUS_CONTENT\",\n",
              "              \"probability\": \"NEGLIGIBLE\"\n",
              "            }\n",
              "          ]\n",
              "        }\n",
              "      ],\n",
              "      \"usage_metadata\": {\n",
              "        \"prompt_token_count\": 7,\n",
              "        \"candidates_token_count\": 359,\n",
              "        \"total_token_count\": 366\n",
              "      }\n",
              "    }),\n",
              ")"
            ]
          },
          "metadata": {},
          "execution_count": 80
        }
      ]
    },
    {
      "cell_type": "code",
      "source": [
        "response.candidates"
      ],
      "metadata": {
        "colab": {
          "base_uri": "https://localhost:8080/"
        },
        "id": "o-nJQVTtnJKW",
        "outputId": "7f5678c7-54e6-4f8e-dc14-6ef91d2b0d35"
      },
      "execution_count": 81,
      "outputs": [
        {
          "output_type": "execute_result",
          "data": {
            "text/plain": [
              "[content {\n",
              "  parts {\n",
              "    text: \"In the bustling city of New York, a cataclysmic event threatened to plunge mankind into darkness. Extraterrestrial invaders, known as the Chitauri, had descended upon Earth with an unstoppable force.\\n\\nWith humanity\\'s fate hanging in the balance, the world\\'s greatest heroes assembled: the Avengers. Captain America, the steadfast leader; Iron Man, the technological genius; Thor, the Asgardian god of thunder; Hulk, the volatile green behemoth; Black Widow, the skilled assassin; and Hawkeye, the master archer.\\n\\nEach with their unique abilities, the Avengers stood united against the alien threat. Cap\\'s vibranium shield deflected enemy blasts, while Iron Man unleashed his arsenal of high-tech weaponry. Thor\\'s hammer, Mjolnir, crackled with raw power, decimating the Chitauri with thunderous strikes.\\n\\nHulk, with his incredible strength, tore through enemy ranks, leaving a trail of devastation in his wake. Black Widow used her agility and cunning to infiltrate Chitauri bases, gathering vital intelligence. Hawkeye\\'s arrows pierced the skies, taking down enemy airships with surgical precision.\\n\\nThe battle raged on, each member of the Avengers fighting valiantly. However, as the Chitauri overwhelmed the city, hope began to dwindle. In a desperate move, Cap launched Thor into the sky, where Mjolnir unleashed a blinding bolt of lightning that annihilated the Chitauri command ship.\\n\\nWith the invaders vanquished, the Avengers emerged victorious. They had saved Earth from a perilous threat, proving that even in the darkest of times, hope could prevail through unity and unwavering determination.\\n\\nAnd so, the Avengers became a symbol of hope and protection, forever standing guard over humanity, ready to face any challenge that dared to threaten their world.\"\n",
              "  }\n",
              "  role: \"model\"\n",
              "}\n",
              "finish_reason: STOP\n",
              "index: 0\n",
              "safety_ratings {\n",
              "  category: HARM_CATEGORY_SEXUALLY_EXPLICIT\n",
              "  probability: NEGLIGIBLE\n",
              "}\n",
              "safety_ratings {\n",
              "  category: HARM_CATEGORY_HATE_SPEECH\n",
              "  probability: NEGLIGIBLE\n",
              "}\n",
              "safety_ratings {\n",
              "  category: HARM_CATEGORY_HARASSMENT\n",
              "  probability: NEGLIGIBLE\n",
              "}\n",
              "safety_ratings {\n",
              "  category: HARM_CATEGORY_DANGEROUS_CONTENT\n",
              "  probability: NEGLIGIBLE\n",
              "}\n",
              "]"
            ]
          },
          "metadata": {},
          "execution_count": 81
        }
      ]
    },
    {
      "cell_type": "markdown",
      "source": [
        "**chat conversations - maintan history of chat**"
      ],
      "metadata": {
        "id": "Im-iqiYqsnQ5"
      }
    },
    {
      "cell_type": "code",
      "source": [
        "# initialised chat as empty variable\n",
        "chat = model.start_chat(history=[])\n",
        "chat"
      ],
      "metadata": {
        "colab": {
          "base_uri": "https://localhost:8080/"
        },
        "id": "8_408GbHslQM",
        "outputId": "7ec59542-4fc5-422e-83d2-1830fea5e2f2"
      },
      "execution_count": 86,
      "outputs": [
        {
          "output_type": "execute_result",
          "data": {
            "text/plain": [
              "ChatSession(\n",
              "    model=genai.GenerativeModel(\n",
              "        model_name='models/gemini-pro',\n",
              "        generation_config={},\n",
              "        safety_settings={},\n",
              "        tools=None,\n",
              "        system_instruction=None,\n",
              "        cached_content=None\n",
              "    ),\n",
              "    history=[]\n",
              ")"
            ]
          },
          "metadata": {},
          "execution_count": 86
        }
      ]
    },
    {
      "cell_type": "code",
      "source": [
        "response = chat.send_message(\"what is AI in one liner\")"
      ],
      "metadata": {
        "id": "WB2_pHkNuKvS"
      },
      "execution_count": 87,
      "outputs": []
    },
    {
      "cell_type": "code",
      "source": [
        "response.text"
      ],
      "metadata": {
        "colab": {
          "base_uri": "https://localhost:8080/",
          "height": 35
        },
        "id": "64-F7o2muK5y",
        "outputId": "7ba9419f-e0c5-4bb1-d557-f2f40c55d076"
      },
      "execution_count": 89,
      "outputs": [
        {
          "output_type": "execute_result",
          "data": {
            "text/plain": [
              "'Artificial Intelligence (AI) is the simulation of human intelligence processes by machines, especially computer systems.'"
            ],
            "application/vnd.google.colaboratory.intrinsic+json": {
              "type": "string"
            }
          },
          "metadata": {},
          "execution_count": 89
        }
      ]
    },
    {
      "cell_type": "code",
      "source": [
        "#show Q&A of history\n",
        "chat.history"
      ],
      "metadata": {
        "colab": {
          "base_uri": "https://localhost:8080/"
        },
        "id": "qHSCe6yduv_-",
        "outputId": "8497c1c4-7153-4344-9f89-d6a6352e7e44"
      },
      "execution_count": 91,
      "outputs": [
        {
          "output_type": "execute_result",
          "data": {
            "text/plain": [
              "[parts {\n",
              "   text: \"what is AI in lone liner\"\n",
              " }\n",
              " role: \"user\",\n",
              " parts {\n",
              "   text: \"Artificial Intelligence (AI) is the simulation of human intelligence processes by machines, especially computer systems.\"\n",
              " }\n",
              " role: \"model\"]"
            ]
          },
          "metadata": {},
          "execution_count": 91
        }
      ]
    },
    {
      "cell_type": "code",
      "source": [
        "response = chat.send_message(\"what is meaning of LLM one liner\")"
      ],
      "metadata": {
        "id": "uG73BvCau6dr"
      },
      "execution_count": 93,
      "outputs": []
    },
    {
      "cell_type": "code",
      "source": [
        "response.text"
      ],
      "metadata": {
        "colab": {
          "base_uri": "https://localhost:8080/",
          "height": 35
        },
        "id": "hl2E4LUXvPrv",
        "outputId": "72ac5739-7c44-4037-aae2-0d7438b6d4f6"
      },
      "execution_count": 94,
      "outputs": [
        {
          "output_type": "execute_result",
          "data": {
            "text/plain": [
              "'Large Language Model (LLM): AI trained on vast text data to generate human-like text, translate languages, and perform various language-related tasks.'"
            ],
            "application/vnd.google.colaboratory.intrinsic+json": {
              "type": "string"
            }
          },
          "metadata": {},
          "execution_count": 94
        }
      ]
    },
    {
      "cell_type": "code",
      "source": [
        "chat.history"
      ],
      "metadata": {
        "colab": {
          "base_uri": "https://localhost:8080/"
        },
        "id": "Ei-kbCNDvrse",
        "outputId": "1d1c1489-a5a6-4b8f-c4a0-fed1660668d1"
      },
      "execution_count": 95,
      "outputs": [
        {
          "output_type": "execute_result",
          "data": {
            "text/plain": [
              "[parts {\n",
              "   text: \"what is AI in lone liner\"\n",
              " }\n",
              " role: \"user\",\n",
              " parts {\n",
              "   text: \"Artificial Intelligence (AI) is the simulation of human intelligence processes by machines, especially computer systems.\"\n",
              " }\n",
              " role: \"model\",\n",
              " parts {\n",
              "   text: \"what is meaning of LLM one liner\"\n",
              " }\n",
              " role: \"user\",\n",
              " parts {\n",
              "   text: \"Large Language Model (LLM) is a type of AI that is trained on a massive amount of text data and can generate human-like text, translate languages, write different kinds of creative content, and perform many other language-related tasks.\"\n",
              " }\n",
              " role: \"model\",\n",
              " parts {\n",
              "   text: \"what is meaning of LLM one liner\"\n",
              " }\n",
              " role: \"user\",\n",
              " parts {\n",
              "   text: \"Large Language Model (LLM): AI trained on vast text data to generate human-like text, translate languages, and perform various language-related tasks.\"\n",
              " }\n",
              " role: \"model\"]"
            ]
          },
          "metadata": {},
          "execution_count": 95
        }
      ]
    },
    {
      "cell_type": "code",
      "source": [
        "#flating text\n",
        "for msg in  chat.history:\n",
        "  display(to_markdown(f'**{msg.role}**: {msg.parts[0].text}'))"
      ],
      "metadata": {
        "colab": {
          "base_uri": "https://localhost:8080/",
          "height": 254
        },
        "id": "yb7dWmDoxPU9",
        "outputId": "0f785024-85cd-45c1-d1d8-f3e61d248a7e"
      },
      "execution_count": 98,
      "outputs": [
        {
          "output_type": "display_data",
          "data": {
            "text/plain": [
              "<IPython.core.display.Markdown object>"
            ],
            "text/markdown": "> **user**: what is AI in lone liner"
          },
          "metadata": {}
        },
        {
          "output_type": "display_data",
          "data": {
            "text/plain": [
              "<IPython.core.display.Markdown object>"
            ],
            "text/markdown": "> **model**: Artificial Intelligence (AI) is the simulation of human intelligence processes by machines, especially computer systems."
          },
          "metadata": {}
        },
        {
          "output_type": "display_data",
          "data": {
            "text/plain": [
              "<IPython.core.display.Markdown object>"
            ],
            "text/markdown": "> **user**: what is meaning of LLM one liner"
          },
          "metadata": {}
        },
        {
          "output_type": "display_data",
          "data": {
            "text/plain": [
              "<IPython.core.display.Markdown object>"
            ],
            "text/markdown": "> **model**: Large Language Model (LLM) is a type of AI that is trained on a massive amount of text data and can generate human-like text, translate languages, write different kinds of creative content, and perform many other language-related tasks."
          },
          "metadata": {}
        },
        {
          "output_type": "display_data",
          "data": {
            "text/plain": [
              "<IPython.core.display.Markdown object>"
            ],
            "text/markdown": "> **user**: what is meaning of LLM one liner"
          },
          "metadata": {}
        },
        {
          "output_type": "display_data",
          "data": {
            "text/plain": [
              "<IPython.core.display.Markdown object>"
            ],
            "text/markdown": "> **model**: Large Language Model (LLM): AI trained on vast text data to generate human-like text, translate languages, and perform various language-related tasks."
          },
          "metadata": {}
        }
      ]
    },
    {
      "cell_type": "markdown",
      "source": [
        "**count tokens**"
      ],
      "metadata": {
        "id": "kaQQvjXEzAeo"
      }
    },
    {
      "cell_type": "code",
      "source": [
        "# 4 char is 1 token\n",
        "model.count_tokens(\"what\")"
      ],
      "metadata": {
        "colab": {
          "base_uri": "https://localhost:8080/",
          "height": 35
        },
        "id": "Dy50idR_zFVb",
        "outputId": "7d2a3a2f-7b9e-4933-af3d-d25f1e99a661"
      },
      "execution_count": 104,
      "outputs": [
        {
          "output_type": "execute_result",
          "data": {
            "text/plain": [
              "total_tokens: 1"
            ]
          },
          "metadata": {},
          "execution_count": 104
        }
      ]
    },
    {
      "cell_type": "code",
      "source": [
        "model.count_tokens(\"what is AI\")"
      ],
      "metadata": {
        "colab": {
          "base_uri": "https://localhost:8080/",
          "height": 35
        },
        "id": "FjW7I8c_zFee",
        "outputId": "491736af-a389-4776-c67b-ffb52de75334"
      },
      "execution_count": 105,
      "outputs": [
        {
          "output_type": "execute_result",
          "data": {
            "text/plain": [
              "total_tokens: 3"
            ]
          },
          "metadata": {},
          "execution_count": 105
        }
      ]
    },
    {
      "cell_type": "markdown",
      "source": [
        "Embeddings"
      ],
      "metadata": {
        "id": "pdrT6v4j8eSJ"
      }
    },
    {
      "cell_type": "code",
      "source": [
        "result = genai.embed_content(\n",
        "    model=\"models/embedding-001\",\n",
        "    content=\"what is AI\",\n",
        "    task_type=\"retrieval_document\",\n",
        "    title=\"Embedding of string\"\n",
        ")"
      ],
      "metadata": {
        "id": "NUDSgh4B8uw0"
      },
      "execution_count": 109,
      "outputs": []
    },
    {
      "cell_type": "code",
      "source": [
        "'''\n",
        "task_type\n",
        "\n",
        "TASK_TYPE_UNSPECIFIED\tUnset value, which will default to one of the other enum values.\n",
        "RETRIEVAL_QUERY\tSpecifies the given text is a query in a search/retrieval setting.\n",
        "RETRIEVAL_DOCUMENT\tSpecifies the given text is a document from the corpus being searched.\n",
        "SEMANTIC_SIMILARITY\tSpecifies the given text will be used for STS.\n",
        "CLASSIFICATION\tSpecifies that the given text will be classified.\n",
        "CLUSTERING\tSpecifies that the embeddings will be used for clustering.\n",
        "QUESTION_ANSWERING\tSpecifies that the given text will be used for question answering.\n",
        "FACT_VERIFICATION\tSpecifies that the given text will be used for fact verification.\n",
        "'''"
      ],
      "metadata": {
        "colab": {
          "base_uri": "https://localhost:8080/",
          "height": 89
        },
        "id": "1M_x3ulp-YGP",
        "outputId": "871c4c0e-1d95-4b01-e836-1e73ed283990"
      },
      "execution_count": 110,
      "outputs": [
        {
          "output_type": "execute_result",
          "data": {
            "text/plain": [
              "'\\nTASK_TYPE_UNSPECIFIED\\tUnset value, which will default to one of the other enum values.\\nRETRIEVAL_QUERY\\tSpecifies the given text is a query in a search/retrieval setting.\\nRETRIEVAL_DOCUMENT\\tSpecifies the given text is a document from the corpus being searched.\\nSEMANTIC_SIMILARITY\\tSpecifies the given text will be used for STS.\\nCLASSIFICATION\\tSpecifies that the given text will be classified.\\nCLUSTERING\\tSpecifies that the embeddings will be used for clustering.\\nQUESTION_ANSWERING\\tSpecifies that the given text will be used for question answering.\\nFACT_VERIFICATION\\tSpecifies that the given text will be used for fact verification.\\n'"
            ],
            "application/vnd.google.colaboratory.intrinsic+json": {
              "type": "string"
            }
          },
          "metadata": {},
          "execution_count": 110
        }
      ]
    },
    {
      "cell_type": "code",
      "source": [
        "result"
      ],
      "metadata": {
        "colab": {
          "base_uri": "https://localhost:8080/"
        },
        "id": "ZNYzM_OJAZCG",
        "outputId": "baffffd9-f5ec-4fe7-b738-29db8ba6cdcb"
      },
      "execution_count": 111,
      "outputs": [
        {
          "output_type": "execute_result",
          "data": {
            "text/plain": [
              "{'embedding': [0.029698627,\n",
              "  -0.060678855,\n",
              "  0.00022295969,\n",
              "  -0.021503804,\n",
              "  0.019830337,\n",
              "  0.020388791,\n",
              "  0.036855638,\n",
              "  0.01140636,\n",
              "  0.007522103,\n",
              "  0.02534626,\n",
              "  0.037863355,\n",
              "  0.0061612483,\n",
              "  -0.020705737,\n",
              "  -0.0063027674,\n",
              "  0.015873723,\n",
              "  -0.04774353,\n",
              "  -0.0039763963,\n",
              "  0.009255759,\n",
              "  -0.010251514,\n",
              "  0.01498176,\n",
              "  0.03585678,\n",
              "  2.3437776e-06,\n",
              "  0.018379312,\n",
              "  -0.026807223,\n",
              "  0.009666368,\n",
              "  -0.016988972,\n",
              "  0.019455392,\n",
              "  -0.027685972,\n",
              "  -0.016842457,\n",
              "  -0.00212653,\n",
              "  -0.03572853,\n",
              "  0.008565739,\n",
              "  -0.03700285,\n",
              "  0.029669272,\n",
              "  0.01765656,\n",
              "  -0.034343142,\n",
              "  0.01755866,\n",
              "  -0.023909807,\n",
              "  4.172732e-05,\n",
              "  -0.0044847634,\n",
              "  -0.0019616925,\n",
              "  -0.028627714,\n",
              "  -0.042742882,\n",
              "  -0.0040580737,\n",
              "  0.029601555,\n",
              "  -0.034020472,\n",
              "  -0.004055973,\n",
              "  0.0052878144,\n",
              "  0.009516181,\n",
              "  -0.054925106,\n",
              "  0.059688922,\n",
              "  0.0076392205,\n",
              "  0.110127434,\n",
              "  -0.0013483331,\n",
              "  -0.0027809236,\n",
              "  -0.03947565,\n",
              "  0.042953115,\n",
              "  -0.002840591,\n",
              "  -0.023742514,\n",
              "  -0.011187635,\n",
              "  -0.00783537,\n",
              "  0.011570301,\n",
              "  0.024672223,\n",
              "  0.014744725,\n",
              "  -0.0045020184,\n",
              "  -0.024608944,\n",
              "  -0.026835747,\n",
              "  0.02952323,\n",
              "  0.0066162758,\n",
              "  -0.037159692,\n",
              "  0.012344615,\n",
              "  -0.0211755,\n",
              "  0.052934032,\n",
              "  -0.009377603,\n",
              "  -0.021222625,\n",
              "  -0.035541505,\n",
              "  -0.015810814,\n",
              "  0.027879292,\n",
              "  0.01928984,\n",
              "  0.019982157,\n",
              "  0.030678546,\n",
              "  0.00288612,\n",
              "  -0.063580945,\n",
              "  -0.04135818,\n",
              "  -0.061080463,\n",
              "  -0.006483379,\n",
              "  -0.02150714,\n",
              "  -0.031449523,\n",
              "  -0.030860452,\n",
              "  0.049725194,\n",
              "  -0.01846326,\n",
              "  -0.021081695,\n",
              "  0.020717759,\n",
              "  -0.087033026,\n",
              "  0.0013726485,\n",
              "  0.04641444,\n",
              "  -0.003447186,\n",
              "  0.036353398,\n",
              "  -0.017959962,\n",
              "  -0.015019594,\n",
              "  -0.009550117,\n",
              "  0.00028177415,\n",
              "  -0.049031835,\n",
              "  0.035208847,\n",
              "  0.002922165,\n",
              "  0.0159072,\n",
              "  -0.008389163,\n",
              "  0.089104325,\n",
              "  0.024135921,\n",
              "  0.051349353,\n",
              "  -0.040457703,\n",
              "  -0.045788683,\n",
              "  -0.017810103,\n",
              "  -0.0018545545,\n",
              "  0.044359244,\n",
              "  -0.009768427,\n",
              "  0.0075115818,\n",
              "  0.027308518,\n",
              "  0.01773457,\n",
              "  0.015698308,\n",
              "  -0.0016689077,\n",
              "  -0.0083292555,\n",
              "  0.09553011,\n",
              "  -0.026066637,\n",
              "  0.027763471,\n",
              "  0.050505072,\n",
              "  -0.005754719,\n",
              "  0.00744186,\n",
              "  0.044911437,\n",
              "  0.012693069,\n",
              "  0.0023086504,\n",
              "  -0.019240348,\n",
              "  -0.01380209,\n",
              "  0.018404884,\n",
              "  0.05893085,\n",
              "  0.03932966,\n",
              "  0.015677096,\n",
              "  0.0074986555,\n",
              "  0.025298674,\n",
              "  0.04520634,\n",
              "  0.017996015,\n",
              "  0.01849367,\n",
              "  -0.0031095354,\n",
              "  0.05885279,\n",
              "  -0.046935674,\n",
              "  0.019745996,\n",
              "  -0.087374926,\n",
              "  -0.013927962,\n",
              "  0.02043875,\n",
              "  -0.014136096,\n",
              "  -0.015160699,\n",
              "  -0.026235553,\n",
              "  -0.0863359,\n",
              "  -0.0074637304,\n",
              "  0.06184137,\n",
              "  -0.032679286,\n",
              "  -0.046418816,\n",
              "  0.0825976,\n",
              "  0.018223854,\n",
              "  0.024965687,\n",
              "  0.06974178,\n",
              "  0.02012199,\n",
              "  0.033637818,\n",
              "  0.03804199,\n",
              "  0.015015408,\n",
              "  -0.03815056,\n",
              "  -0.008071002,\n",
              "  0.0072723706,\n",
              "  -0.013806511,\n",
              "  -0.011674256,\n",
              "  -0.026391223,\n",
              "  0.041831616,\n",
              "  -0.037555274,\n",
              "  -0.061006706,\n",
              "  -0.038937762,\n",
              "  -0.014664315,\n",
              "  -0.03918698,\n",
              "  -0.009836706,\n",
              "  -0.024228437,\n",
              "  -0.023188049,\n",
              "  -0.031216474,\n",
              "  -0.026111048,\n",
              "  -0.0018582176,\n",
              "  0.06034398,\n",
              "  0.032949165,\n",
              "  -0.015618593,\n",
              "  0.05653781,\n",
              "  -0.050542165,\n",
              "  -0.0069403145,\n",
              "  0.0150281545,\n",
              "  -0.04616564,\n",
              "  0.0013790424,\n",
              "  -0.010142763,\n",
              "  -0.051916752,\n",
              "  0.0044591934,\n",
              "  0.019981476,\n",
              "  0.029275162,\n",
              "  0.050329324,\n",
              "  0.033518765,\n",
              "  -0.012164488,\n",
              "  0.03769349,\n",
              "  0.054725118,\n",
              "  -0.009645249,\n",
              "  -0.009532642,\n",
              "  -0.012662186,\n",
              "  0.007662638,\n",
              "  0.06451527,\n",
              "  -0.011973476,\n",
              "  -0.044637877,\n",
              "  0.031252343,\n",
              "  -0.03530697,\n",
              "  -0.0020680032,\n",
              "  0.03763097,\n",
              "  -0.0027561358,\n",
              "  0.019822259,\n",
              "  -0.012030009,\n",
              "  0.03690242,\n",
              "  -0.028557945,\n",
              "  0.0068689007,\n",
              "  -0.014450309,\n",
              "  0.035358626,\n",
              "  -0.029418439,\n",
              "  -0.011620163,\n",
              "  0.009372441,\n",
              "  0.040374324,\n",
              "  0.054719787,\n",
              "  -0.031507652,\n",
              "  0.018656418,\n",
              "  0.006456797,\n",
              "  -0.045531742,\n",
              "  -0.013554045,\n",
              "  0.044443607,\n",
              "  0.043498542,\n",
              "  -0.03108625,\n",
              "  0.07624957,\n",
              "  -0.03227139,\n",
              "  0.021804456,\n",
              "  0.012496098,\n",
              "  0.025918037,\n",
              "  -0.009236867,\n",
              "  -0.017978773,\n",
              "  0.051158242,\n",
              "  0.039464165,\n",
              "  0.02603019,\n",
              "  -0.03313982,\n",
              "  -0.022429012,\n",
              "  -0.016560731,\n",
              "  0.029693335,\n",
              "  -0.012911304,\n",
              "  0.025863213,\n",
              "  -0.017200494,\n",
              "  -0.009927129,\n",
              "  0.004667903,\n",
              "  0.03839705,\n",
              "  -0.05499103,\n",
              "  0.048260983,\n",
              "  -0.07270049,\n",
              "  -0.0119757,\n",
              "  -0.013609123,\n",
              "  0.013360855,\n",
              "  0.040966332,\n",
              "  0.055658937,\n",
              "  0.013358242,\n",
              "  -0.046519514,\n",
              "  0.010912599,\n",
              "  -0.026244583,\n",
              "  -0.017424718,\n",
              "  -0.07265341,\n",
              "  -0.033086475,\n",
              "  0.030544223,\n",
              "  -0.013880813,\n",
              "  -0.048095547,\n",
              "  0.03651237,\n",
              "  -0.007849494,\n",
              "  -0.010676664,\n",
              "  0.0017957442,\n",
              "  -0.01852528,\n",
              "  0.005994017,\n",
              "  0.012950436,\n",
              "  -0.022881027,\n",
              "  0.04887849,\n",
              "  -0.02150341,\n",
              "  0.014047918,\n",
              "  -0.034388117,\n",
              "  -0.012324048,\n",
              "  0.057719097,\n",
              "  -0.038990915,\n",
              "  -0.0045010457,\n",
              "  0.019272616,\n",
              "  -0.054854747,\n",
              "  -0.024355045,\n",
              "  0.0013488041,\n",
              "  -0.0074838237,\n",
              "  -0.06890987,\n",
              "  -0.033199705,\n",
              "  0.009282671,\n",
              "  0.03682123,\n",
              "  0.05201796,\n",
              "  0.051005844,\n",
              "  0.0024616977,\n",
              "  0.002859129,\n",
              "  -0.058656245,\n",
              "  0.025248991,\n",
              "  -0.014636181,\n",
              "  0.00051996426,\n",
              "  0.020699278,\n",
              "  0.00447651,\n",
              "  -0.06294074,\n",
              "  0.010023543,\n",
              "  0.04123014,\n",
              "  0.0131276455,\n",
              "  -0.0037172562,\n",
              "  -0.021889023,\n",
              "  0.006815453,\n",
              "  0.12295797,\n",
              "  0.016257428,\n",
              "  -0.0063145394,\n",
              "  -0.002582891,\n",
              "  0.017703598,\n",
              "  0.056263864,\n",
              "  -0.00634755,\n",
              "  0.048526704,\n",
              "  0.020578649,\n",
              "  0.0021305534,\n",
              "  -0.056431673,\n",
              "  0.026032355,\n",
              "  -0.04326363,\n",
              "  0.060177993,\n",
              "  -0.011817761,\n",
              "  0.004395979,\n",
              "  0.017772658,\n",
              "  -0.03816555,\n",
              "  -0.0505867,\n",
              "  0.045235712,\n",
              "  0.00971333,\n",
              "  0.052741975,\n",
              "  -0.069799446,\n",
              "  -0.02844271,\n",
              "  0.0028523845,\n",
              "  -0.043858014,\n",
              "  -0.018038029,\n",
              "  0.068158835,\n",
              "  -0.021790292,\n",
              "  -0.014823275,\n",
              "  0.02643522,\n",
              "  -0.016995035,\n",
              "  -0.04966627,\n",
              "  -0.0060929344,\n",
              "  0.106107876,\n",
              "  -0.006746611,\n",
              "  0.015713405,\n",
              "  0.07659137,\n",
              "  -0.043714993,\n",
              "  0.019281812,\n",
              "  -0.007981251,\n",
              "  -0.05908264,\n",
              "  0.031798013,\n",
              "  -0.01015233,\n",
              "  0.07743387,\n",
              "  -0.018895721,\n",
              "  -0.010309374,\n",
              "  0.0430661,\n",
              "  -0.0056561185,\n",
              "  -0.026471691,\n",
              "  -0.0027094928,\n",
              "  0.015913539,\n",
              "  -0.05348824,\n",
              "  -0.0015893722,\n",
              "  0.0009262133,\n",
              "  0.01630058,\n",
              "  0.033576287,\n",
              "  -0.03531663,\n",
              "  0.013495365,\n",
              "  -0.075679496,\n",
              "  0.038108863,\n",
              "  0.015652338,\n",
              "  -0.04103474,\n",
              "  -0.04705813,\n",
              "  0.02130968,\n",
              "  -0.0064979154,\n",
              "  -0.05896996,\n",
              "  -0.0036444766,\n",
              "  0.05554797,\n",
              "  0.035757177,\n",
              "  -0.009317662,\n",
              "  -0.027000044,\n",
              "  0.017890042,\n",
              "  0.03159787,\n",
              "  -0.018844767,\n",
              "  0.022980131,\n",
              "  0.014838276,\n",
              "  0.051771212,\n",
              "  0.04770779,\n",
              "  0.01266339,\n",
              "  0.04937704,\n",
              "  -0.005341519,\n",
              "  -0.0016597275,\n",
              "  -0.02890209,\n",
              "  0.020792864,\n",
              "  0.027755639,\n",
              "  -0.027540166,\n",
              "  0.001911218,\n",
              "  -0.050045572,\n",
              "  -0.016413966,\n",
              "  -0.006962729,\n",
              "  -0.007757693,\n",
              "  -0.011790029,\n",
              "  -0.01669246,\n",
              "  -0.0073441286,\n",
              "  0.023226079,\n",
              "  0.041747365,\n",
              "  -0.009391233,\n",
              "  0.014755585,\n",
              "  -0.0437438,\n",
              "  -0.03256338,\n",
              "  -0.02899371,\n",
              "  0.0081761535,\n",
              "  -0.044684753,\n",
              "  0.036197387,\n",
              "  0.031883385,\n",
              "  -0.054789104,\n",
              "  -0.009779714,\n",
              "  0.04974315,\n",
              "  -0.047123857,\n",
              "  -0.087392874,\n",
              "  0.0021641704,\n",
              "  0.014227462,\n",
              "  0.0105316695,\n",
              "  0.0306977,\n",
              "  0.009099197,\n",
              "  0.09822345,\n",
              "  0.04078164,\n",
              "  -0.028270036,\n",
              "  0.04748284,\n",
              "  -0.0033295723,\n",
              "  -0.032787286,\n",
              "  -0.0018452586,\n",
              "  0.0052866065,\n",
              "  -0.018906517,\n",
              "  -0.050961778,\n",
              "  -0.0013403655,\n",
              "  -0.028001586,\n",
              "  -0.0017648939,\n",
              "  -0.0020112942,\n",
              "  -0.052775525,\n",
              "  -0.025994016,\n",
              "  0.00590642,\n",
              "  -0.02866082,\n",
              "  0.038756285,\n",
              "  -0.110177256,\n",
              "  -0.0027335328,\n",
              "  -0.024178023,\n",
              "  -0.02437326,\n",
              "  -0.05966152,\n",
              "  -0.033786707,\n",
              "  -0.0017858226,\n",
              "  -0.014684285,\n",
              "  0.08063736,\n",
              "  -0.003797004,\n",
              "  -0.012881226,\n",
              "  0.01756285,\n",
              "  -0.03808469,\n",
              "  -0.028626999,\n",
              "  -0.106103584,\n",
              "  0.04100041,\n",
              "  -0.019082833,\n",
              "  0.006909568,\n",
              "  -0.014633177,\n",
              "  0.002845357,\n",
              "  0.06141362,\n",
              "  0.0135715725,\n",
              "  -0.02626751,\n",
              "  0.007110477,\n",
              "  -0.01634919,\n",
              "  -0.051521964,\n",
              "  -0.016389865,\n",
              "  -0.072068855,\n",
              "  0.03729587,\n",
              "  -0.052820217,\n",
              "  0.0071904957,\n",
              "  0.036086515,\n",
              "  0.061099984,\n",
              "  0.024202606,\n",
              "  0.025977291,\n",
              "  -0.054464526,\n",
              "  -0.054200117,\n",
              "  0.08020578,\n",
              "  0.033136703,\n",
              "  0.03867173,\n",
              "  0.042988602,\n",
              "  -0.034087367,\n",
              "  -0.01811224,\n",
              "  -0.0091674,\n",
              "  -0.04218904,\n",
              "  -0.010259809,\n",
              "  0.0073790513,\n",
              "  -0.040235985,\n",
              "  0.10262869,\n",
              "  0.06279708,\n",
              "  0.06338852,\n",
              "  0.012747721,\n",
              "  -0.019643033,\n",
              "  -0.041179243,\n",
              "  -0.0083325775,\n",
              "  0.070899695,\n",
              "  -0.098831624,\n",
              "  0.05387458,\n",
              "  0.0043476415,\n",
              "  0.011872032,\n",
              "  -0.027702684,\n",
              "  0.007742068,\n",
              "  0.019293753,\n",
              "  0.018954394,\n",
              "  0.022875348,\n",
              "  0.0785813,\n",
              "  -0.060148496,\n",
              "  0.015980052,\n",
              "  -0.00921079,\n",
              "  0.039565783,\n",
              "  0.023174783,\n",
              "  0.07571121,\n",
              "  0.0026058427,\n",
              "  -0.08132641,\n",
              "  -0.015906237,\n",
              "  0.008593418,\n",
              "  -0.026748244,\n",
              "  0.02946477,\n",
              "  0.01163673,\n",
              "  -0.01666151,\n",
              "  0.0027380302,\n",
              "  -0.039274897,\n",
              "  0.05660791,\n",
              "  -0.10453751,\n",
              "  -0.0017022139,\n",
              "  0.00569429,\n",
              "  -0.031104561,\n",
              "  -0.0024868387,\n",
              "  0.01570449,\n",
              "  0.034894947,\n",
              "  -0.026972042,\n",
              "  0.01837819,\n",
              "  -0.06446599,\n",
              "  0.03295875,\n",
              "  0.036837902,\n",
              "  -0.036916815,\n",
              "  0.0005815519,\n",
              "  0.03249227,\n",
              "  -0.08470274,\n",
              "  0.046193514,\n",
              "  -0.04723096,\n",
              "  -0.0352048,\n",
              "  0.003857236,\n",
              "  0.01366817,\n",
              "  0.017458094,\n",
              "  0.010584952,\n",
              "  -0.012430521,\n",
              "  -0.021736067,\n",
              "  -8.4341176e-05,\n",
              "  0.043858536,\n",
              "  -0.001049433,\n",
              "  -0.037951592,\n",
              "  0.009283305,\n",
              "  0.052568108,\n",
              "  0.0081728045,\n",
              "  0.023351727,\n",
              "  -0.04178779,\n",
              "  -0.04244728,\n",
              "  0.012995517,\n",
              "  0.060380902,\n",
              "  0.0029125838,\n",
              "  -0.06613171,\n",
              "  0.045227427,\n",
              "  -0.0118751675,\n",
              "  0.042715535,\n",
              "  0.039436277,\n",
              "  0.017009705,\n",
              "  -0.050251093,\n",
              "  0.004104381,\n",
              "  -0.035622213,\n",
              "  0.010488418,\n",
              "  0.02843158,\n",
              "  -0.01598441,\n",
              "  0.023024835,\n",
              "  0.032606672,\n",
              "  -0.007103257,\n",
              "  -0.0013856691,\n",
              "  0.040649317,\n",
              "  0.05045955,\n",
              "  0.015831083,\n",
              "  0.031575438,\n",
              "  -0.05869776,\n",
              "  0.067547366,\n",
              "  -0.027391708,\n",
              "  -0.0362772,\n",
              "  0.0045105345,\n",
              "  -0.014348514,\n",
              "  0.016338257,\n",
              "  -0.045058273,\n",
              "  -0.01370364,\n",
              "  -0.0006383912,\n",
              "  0.00586228,\n",
              "  -0.06991633,\n",
              "  0.0673922,\n",
              "  -0.02175867,\n",
              "  0.020263944,\n",
              "  0.046517204,\n",
              "  -0.034938205,\n",
              "  0.028726777,\n",
              "  0.004701659,\n",
              "  0.055090696,\n",
              "  0.0049306536,\n",
              "  -0.06538006,\n",
              "  0.011880792,\n",
              "  -0.020876002,\n",
              "  -0.030100932,\n",
              "  -0.020004455,\n",
              "  0.029034454,\n",
              "  0.020126564,\n",
              "  -0.031802326,\n",
              "  0.0026802253,\n",
              "  -0.005657671,\n",
              "  0.018164827,\n",
              "  0.036243048,\n",
              "  -0.0014329547,\n",
              "  0.021110073,\n",
              "  0.008939527,\n",
              "  -0.03577334,\n",
              "  0.004490867,\n",
              "  0.06901536,\n",
              "  0.046410937,\n",
              "  0.050194368,\n",
              "  0.043741766,\n",
              "  0.0009893907,\n",
              "  0.0055493587,\n",
              "  -0.046617176,\n",
              "  0.006613249,\n",
              "  -0.028438067,\n",
              "  0.012268718,\n",
              "  0.04853047,\n",
              "  0.053918626,\n",
              "  -0.07374271,\n",
              "  0.00798256,\n",
              "  0.0009808269,\n",
              "  0.012000108,\n",
              "  0.031230176,\n",
              "  0.05511608,\n",
              "  -0.027496817,\n",
              "  -0.03597796,\n",
              "  -0.05997234,\n",
              "  0.006319161,\n",
              "  0.00025924374,\n",
              "  -0.0036907746,\n",
              "  0.030956259,\n",
              "  -0.063739166,\n",
              "  -0.011617372,\n",
              "  0.005730118,\n",
              "  -0.044049006,\n",
              "  -0.048687845,\n",
              "  0.016598992,\n",
              "  -0.005977154,\n",
              "  -0.022361469,\n",
              "  0.020098729,\n",
              "  0.019381544,\n",
              "  0.008591814,\n",
              "  -0.02657948,\n",
              "  -0.026691867,\n",
              "  -0.007195048,\n",
              "  -0.06565572,\n",
              "  -0.037155125,\n",
              "  0.03767491,\n",
              "  -0.05271506,\n",
              "  0.023352167,\n",
              "  0.022345547,\n",
              "  0.014647239,\n",
              "  0.020981487,\n",
              "  -0.02121095,\n",
              "  -0.0488645,\n",
              "  0.09070861,\n",
              "  0.00849477,\n",
              "  0.027958047,\n",
              "  -0.026196115,\n",
              "  0.03769841,\n",
              "  -0.050740264,\n",
              "  0.0098117795,\n",
              "  -0.029586395,\n",
              "  -0.008118295,\n",
              "  0.007433437,\n",
              "  0.0014692972,\n",
              "  -0.009145743,\n",
              "  -0.03253833,\n",
              "  0.000790903,\n",
              "  -0.06845235,\n",
              "  -0.02384537,\n",
              "  0.016071524,\n",
              "  0.041156135,\n",
              "  0.014254145,\n",
              "  -0.04626232,\n",
              "  0.010445508,\n",
              "  0.020582825,\n",
              "  0.02727629,\n",
              "  0.010645265,\n",
              "  -0.08248247,\n",
              "  -0.034041516,\n",
              "  -0.0055647586,\n",
              "  -0.0071793767,\n",
              "  -0.010619685,\n",
              "  0.011842984,\n",
              "  0.0742191,\n",
              "  0.021603014,\n",
              "  0.0339514,\n",
              "  0.042286452,\n",
              "  -0.045225766,\n",
              "  -0.03047586,\n",
              "  0.019322023,\n",
              "  -0.003625299,\n",
              "  -0.06680508,\n",
              "  0.010563473,\n",
              "  -0.0029444515,\n",
              "  -0.020303175,\n",
              "  0.069404036,\n",
              "  -0.006883629,\n",
              "  0.028248293,\n",
              "  0.0238396,\n",
              "  -0.010241297,\n",
              "  -0.052862078,\n",
              "  0.052362155,\n",
              "  -0.064390965,\n",
              "  0.012061995,\n",
              "  -0.04921026,\n",
              "  -0.014533044,\n",
              "  0.025273193,\n",
              "  -0.013781214,\n",
              "  0.03889978,\n",
              "  0.045296036,\n",
              "  -0.04525839,\n",
              "  0.085188046,\n",
              "  0.0023582894,\n",
              "  0.055244755,\n",
              "  -0.016729657,\n",
              "  -0.09828327,\n",
              "  0.014780963,\n",
              "  -0.051650576,\n",
              "  0.025121259,\n",
              "  0.044031646,\n",
              "  -0.03943082,\n",
              "  -0.07821126,\n",
              "  -0.026811512,\n",
              "  -0.02484498,\n",
              "  0.02742743,\n",
              "  -0.03787135,\n",
              "  -0.012258841,\n",
              "  -0.036279026,\n",
              "  -0.021281857,\n",
              "  0.030121358,\n",
              "  0.053780843,\n",
              "  -0.0028792731,\n",
              "  0.0046370975,\n",
              "  -0.03582727,\n",
              "  -0.01193321,\n",
              "  -0.02880342,\n",
              "  -0.016279867,\n",
              "  0.04606472,\n",
              "  -0.0043713776,\n",
              "  -0.025274657,\n",
              "  0.056519307,\n",
              "  0.062268984,\n",
              "  0.0182135,\n",
              "  0.0394428]}"
            ]
          },
          "metadata": {},
          "execution_count": 111
        }
      ]
    },
    {
      "cell_type": "code",
      "source": [
        "#word embedding\n",
        "len(result['embedding'])"
      ],
      "metadata": {
        "colab": {
          "base_uri": "https://localhost:8080/"
        },
        "id": "xrOKolAkAgOa",
        "outputId": "4a4d4b69-f2b3-425d-92e6-c341d64e3b07"
      },
      "execution_count": 113,
      "outputs": [
        {
          "output_type": "execute_result",
          "data": {
            "text/plain": [
              "768"
            ]
          },
          "metadata": {},
          "execution_count": 113
        }
      ]
    },
    {
      "cell_type": "code",
      "source": [
        "#sentanse embedding\n",
        "\n",
        "result = genai.embed_content(\n",
        "    model=\"models/embedding-001\",\n",
        "    content=['what is AI',\n",
        "             'what is Deeplearning',\n",
        "             'what is LLM',\n",
        "             'what is vector database'],\n",
        "    task_type=\"retrieval_document\",\n",
        "    title=\"Embedding of string\"\n",
        ")"
      ],
      "metadata": {
        "id": "fFWU4VjMDrgN"
      },
      "execution_count": 116,
      "outputs": []
    },
    {
      "cell_type": "code",
      "source": [
        "for emb in result['embedding']:\n",
        "  print(emb)\n",
        "  print(len(emb))\n",
        "  print(\"==\"*80)"
      ],
      "metadata": {
        "colab": {
          "base_uri": "https://localhost:8080/"
        },
        "id": "ChqiTG27EOVG",
        "outputId": "1bdefe5e-f5b6-4a17-ae17-229dbd301c33"
      },
      "execution_count": 119,
      "outputs": [
        {
          "output_type": "stream",
          "name": "stdout",
          "text": [
            "[0.0032291496, -0.0420679, 0.018680003, -0.008088012, 0.053601082, 0.008594577, 0.04189802, -0.0042130193, 0.0105187455, 0.027130833, 0.005900986, 0.022943107, -0.030536963, -0.0098742675, -0.027780706, -0.05845876, 0.024129411, 0.023153456, -0.0075794663, -0.0013617452, 0.034071676, -0.015136808, 0.019358287, -0.0223866, 0.01386872, -0.024591891, 0.026390081, -0.030779947, -0.018916145, 0.030787542, -0.024459887, 0.0063541364, -0.03096265, 0.01834534, 0.025560753, -0.03419429, 0.01446935, -0.0401756, -0.006222777, -0.021550542, 0.008264596, -0.07131718, -0.026656505, -0.0148434, 0.028418807, -0.0016926768, -0.015449093, 0.023906473, 0.007441963, -0.08367638, 0.06634778, 0.0020905528, 0.10549846, -0.01637871, -0.014803498, -0.03347579, 0.04476077, 0.011999855, -0.012871705, -0.02236545, -0.011824455, 0.0015594789, 0.013003066, -0.0013398319, 0.012629805, -0.015962439, -0.042230148, 0.04797205, 0.015166892, -0.025400326, 0.03181188, -0.030757485, 0.058823198, -0.025778066, -0.014520873, -0.04464895, 0.01720343, 0.0317299, -0.003976964, 0.015448603, -0.007244305, -0.0102762, -0.059682295, -0.017843688, -0.071192786, -0.015572251, -0.01639389, -0.02601151, -0.015813107, 0.05812, -0.016747618, -0.011360275, -0.0043355008, -0.089243, -0.022746984, 0.054182205, 0.0061896434, 0.008319651, 0.010068229, -0.0050513563, -0.019670853, -0.0032258045, -0.052827187, 0.042561613, 0.0018288038, 0.009783187, 0.023118954, 0.0980742, 0.022442807, 0.038984366, -0.03729864, -0.052508105, -0.01409673, 0.005003166, 0.032352082, 0.003901063, 0.024113374, 0.018565897, -0.017738212, 0.012358969, -0.0048187333, 0.0028550867, 0.10301508, -0.013218204, 0.0072499937, 0.07161363, -0.02313787, 0.032137975, 0.052477255, -0.007605775, -0.0125114005, -0.030871797, -0.016635617, 0.013455643, 0.05531229, 0.058944993, 0.01885702, 0.005310288, 0.016877757, 0.059747737, -0.010122159, 0.034359865, 0.017231617, 0.058674805, -0.04653262, 0.026282951, -0.06657555, -0.015714733, 0.029600393, -0.039931566, -0.04140913, -0.0059669376, -0.13431154, -0.0039849915, 0.03431283, -0.020532332, -0.015854277, 0.08369042, -6.489045e-05, 0.0073123146, 0.057890262, 0.011243536, 0.009646384, 0.029571032, 0.01828048, -0.017535612, -0.010462374, -0.00055157417, 0.0016533743, 0.010411403, -0.015608617, 0.016394816, -0.06659099, -0.056093283, -0.031923275, -0.041238204, -0.06498464, 0.008855454, 0.024903553, -0.023686506, -0.027496073, -0.07453979, -0.010417805, 0.043674827, 0.035648182, -0.010274287, 0.046224125, -0.066478156, -0.036413986, 0.018527651, -0.03176511, 0.018108686, -0.014763431, -0.017193818, -0.0049735326, 0.015528311, 0.03215926, 0.048266914, 0.07213247, 0.008020548, 0.0276134, 0.04356666, 0.016080124, 0.0044577387, -0.0071307817, 0.009166226, 0.033391234, -0.03056734, -0.05662663, 0.04890357, -0.04747406, 0.005120413, 0.05868788, 0.024641277, 0.005697083, -0.01308409, 0.02065297, -0.03839114, 0.021221068, 0.009420659, 0.02485142, 0.002622033, -0.027591722, 0.021906968, 0.033374205, 0.07811539, -0.0116739, 0.040298156, -0.0035583097, -0.022847574, -0.007619859, 0.06370586, 0.066974774, -0.035055798, 0.036744907, -0.0037715256, 0.049155828, 0.046398044, 0.025160316, -0.004957546, -0.021072527, 0.02052442, 0.02775978, 0.021212058, -0.05352372, -0.040157665, -0.033177283, 0.041886985, 0.013773282, 0.025052333, -0.03712121, -0.039078943, 0.022517806, 0.063511506, -0.029389597, 0.017140642, -0.06364991, 2.3424425e-05, -0.0017367181, 0.047703423, 0.02571123, 0.041210387, 0.019328408, -0.070027165, -0.0011520807, -0.018509902, -0.012302259, -0.06026067, -0.0011654871, 0.01303078, -0.0010601813, -0.0074009295, 0.04413219, -0.015145325, 0.0057693506, -0.014342515, -0.048033338, 0.022536688, -0.028631326, -0.03802352, 0.028612223, -0.02274771, -0.007081013, -0.031389818, -0.0056286342, 0.030601654, -0.031397387, -0.0069110794, 0.021117711, -0.039406966, -0.035965588, 0.008169273, -0.038357105, -0.060764086, -0.019268736, -0.0029237242, 0.01607011, 0.0448196, 0.045962416, 0.011254962, -0.0079565635, -0.06427486, 0.01344558, -0.038118362, -0.004447822, 0.0020891803, 0.004978368, -0.061055303, 0.011651015, 0.047506228, 0.0021314973, 0.0056093545, -0.04220581, 0.008948783, 0.06973721, 0.017830735, -0.029021388, 0.0087053655, -0.008713427, 0.05389881, -0.024158627, 0.029280728, 0.0021113125, 0.01520735, -0.05083401, 0.032890767, -0.054907095, 0.05753449, 0.00061386346, 0.0032831326, 0.020956766, -0.029205563, -0.04665717, 0.02130952, 0.002814033, 0.044849202, -0.052177567, -0.022326019, 0.0010545158, -0.028260479, -0.007588819, 0.042925265, -0.03680155, -0.019121598, 0.014735635, -0.023125255, -0.041656215, 0.0069731893, 0.09994943, 0.013909063, 0.030900527, 0.053081904, -0.023119796, 0.0114885075, 0.007919253, -0.044985913, 0.052128773, -0.046782613, 0.07522329, -0.0050961995, -0.0071027162, 0.056382712, 0.02180518, -0.0431237, 0.03969513, 0.027104147, -0.054469407, 0.013973903, 0.014255195, -0.0007451637, 0.012896411, 0.008317173, 0.043199915, -0.058202125, 0.03666325, -0.016017534, -0.014289427, -0.042887878, 0.03120209, 0.0004777152, -0.058270596, -0.01387383, 0.0523903, 0.05562103, 0.004920489, 0.002892179, 0.011767715, 0.028449796, -0.035810187, 0.0035211088, 0.01566269, 0.025322776, 0.0559735, 0.016584428, 0.055638332, -0.020551106, 0.012784947, -0.024847755, 0.008132267, 0.011856684, -0.0274346, -0.0012514414, -0.044164937, 0.011637226, -0.010415987, -0.014109107, -0.0106032975, -0.010899489, -0.029376509, 0.0028363813, 0.04662448, -0.00066938344, 0.037149213, -0.051778734, -0.029535826, -0.023289196, 0.04082905, -0.033960164, -0.0022162746, 0.028204428, -0.052339733, -0.012434861, 0.038107973, -0.05340406, -0.057551898, -0.012967725, 0.026598576, -0.004810574, 0.017920746, 0.007494341, 0.11148056, 0.029942939, -0.01073828, 0.0191967, -0.009909818, -0.037180524, 0.020177225, 0.025581134, -0.019293915, -0.04877026, 0.0114931865, 0.00069858367, 0.007583411, -0.02789383, -0.07327811, 0.00084496, -0.015451858, -0.020622134, -0.011114865, -0.08633936, -0.0050814715, -0.041727215, -0.039619897, -0.051832, -0.051352527, -0.008487992, -0.016134454, 0.07396002, -0.02306038, -0.012375049, 0.017281063, -0.023929322, -0.025607439, -0.073795706, 0.04257794, -0.018812014, 0.009198191, -0.020982271, 0.025104761, 0.06445297, 0.0015720053, -0.01039554, 0.00018070446, -0.011519921, -0.036089025, -0.03576434, -0.06962179, 0.039867524, -0.042907894, -0.0066182143, 0.019560866, 0.07406936, 0.027128054, -0.004248667, -0.06930227, -0.036853787, 0.07038425, 0.020024987, 0.02124632, 0.029637938, -0.010997768, -0.019224392, -0.0064579216, -0.030318212, 0.0054330155, 0.001639043, -0.045709338, 0.057168454, 0.070831485, 0.059701838, -0.00097402046, -0.024856642, -0.04205236, 0.015381721, 0.06615606, -0.12661427, 0.03885258, 0.0016933508, -0.010547013, -0.03294943, -0.013603801, 0.022798732, 0.012136567, 0.005807578, 0.097516865, -0.03840525, 0.013204322, 0.005083939, 0.069627196, 0.029066416, 0.084962726, 0.003955837, -0.070560046, -0.036595345, 0.0021674125, 0.0026259017, 0.043615095, 0.013888963, -0.022486983, 0.008322527, -0.07030315, 0.047505777, -0.13324529, -0.008348867, -0.0009140154, -0.027437165, -0.00039703457, 0.025426263, 0.045406993, 0.0031513565, -1.7082983e-05, -0.04830187, 0.03341593, 0.025132269, -0.052081514, -0.024250673, 0.024605364, -0.08166533, 0.041657966, -0.053342707, -0.021244576, 0.021497305, 0.028740287, -0.018740835, 0.009266038, -0.002101871, -0.02329052, 0.032924995, 0.022177689, -0.023101173, -0.026746834, 0.0128415, 0.01698926, 0.027826684, 0.04547395, -0.037365176, -0.033768453, 0.006350796, 0.054707058, -0.010502821, -0.03951518, 0.042008355, 0.027744045, 0.0020129106, 0.032624446, 0.015507607, -0.06359925, -0.024118572, -0.028261418, 0.036535684, 0.07211704, -0.031106623, 0.018265909, 0.031586166, -0.010498535, -0.0048321597, 0.039877817, 0.052307885, 0.009564079, 0.014378175, -0.04607671, 0.038271226, -0.0043503623, -0.01218252, 0.0031264937, -0.011217802, 0.018566318, -0.015074796, -0.03210093, -0.007987382, 0.039556928, -0.06413232, 0.0933102, -0.023671413, 0.031363256, 0.05409683, -0.029273162, -0.015074747, -0.008169798, 0.050819352, -0.029374514, -0.0758849, 0.031208348, -0.0071019484, 0.0038866135, -0.04292172, 0.042343374, -0.0070711416, -0.059639223, -0.0030980923, 0.002888159, 0.01194831, -0.0011466006, 0.039195374, 4.4077366e-05, 0.01826565, -0.039627552, 0.013548007, 0.067519665, 0.030130897, 0.054470703, 0.049206845, 0.021951368, 0.028419323, -0.015732542, 0.031172255, -0.008118303, 0.020796284, 0.029626165, 0.04599674, -0.10189329, 0.027190613, -0.013663909, -0.0081387665, 0.02509035, 0.06041118, -0.024354901, -0.06347754, -0.03361031, 0.009590212, -0.0066920924, -0.005393159, 0.025772505, -0.056639597, -0.022757124, 0.008095508, -0.032607526, -0.022528544, 0.016269965, 0.009017615, -0.008323105, 0.0010677536, 0.028969567, -0.012627467, -0.023164574, -0.03532982, -0.0058563873, -0.041978396, -0.04906155, 0.0077069975, -0.04507852, 0.03207341, 0.03128578, 0.022153467, 0.043555174, 0.0046341447, -0.06330586, 0.06597096, -0.0065728393, -0.012504031, 0.008446718, 0.017753178, -0.017485807, -0.011917318, -0.013834684, 0.009357062, -0.02106821, -0.043950938, -0.023477552, -0.03270498, -0.0056095757, -0.039588396, 0.0012504797, 0.0018293749, 0.05361191, 0.025010737, -0.043943826, 0.0024452186, 0.024174346, 0.0038115932, -0.002179366, -0.075105965, -0.03860727, 0.0008642843, 0.0034849315, 0.022119852, 0.0146761825, 0.043659158, 0.022340864, 0.01929321, 0.049340114, -0.047361143, -0.016823746, 0.009276603, 0.02129978, -0.045110643, 0.00345275, -0.004066073, -0.012442443, 0.06639669, 0.033896174, 0.030067716, 0.0012685613, -0.045996927, -0.073582284, 0.05480995, -0.0498568, -0.008966542, -0.053359617, -0.024521537, 0.013035744, -0.02590962, 0.017596072, 0.039979942, -0.051800214, 0.065652326, -8.450082e-06, 0.058117032, -0.016612308, -0.10521618, 0.0007176327, -0.052352667, 0.057528235, 0.046679743, -0.079492144, -0.100171186, 0.0065661487, -0.020922318, 0.01507471, -0.035591938, -0.032380134, -0.044976864, -0.0008839887, 0.019378725, 0.041700337, 0.014881776, -0.0011785117, -0.026899401, -0.0075910855, -0.02581363, -0.02536208, 0.020449879, 0.01804351, -0.023432089, 0.020802604, 0.050719026, 0.03558451, 0.035042744]\n",
            "768\n",
            "================================================================================================================================================================\n",
            "[0.0026919127, -0.018179448, 0.010156014, 0.0058332896, 0.06570687, -0.009263253, 0.043400053, -0.0051056007, -0.004696221, 0.009221587, -0.011474977, 0.0035359252, -0.044384625, -0.02374945, 0.0034511026, -0.06816042, 0.013528621, -0.0051457216, 0.020244636, 0.013868474, 0.024584625, -0.016545983, 0.012491831, -0.011231627, -0.01998914, -0.042538885, 0.02326995, -0.025490152, -0.030224064, 0.035002243, -0.02858155, -0.0052857324, -0.010697666, 0.031866655, 0.047963142, -0.03431938, 0.0051895194, -0.0190165, 0.0052204356, -0.025205208, -0.0042184712, -0.06676705, -0.028477993, -0.027508292, 0.038362656, 0.02354537, -0.008390372, 0.0479103, 0.015525021, -0.10071216, 0.038242914, -0.0014075236, 0.089492284, -0.029283827, -0.0065012467, -0.013243645, 0.04392288, 0.011507507, -0.028864639, -0.016350396, -0.009678993, -0.0012488659, 0.009760692, 0.009222868, 0.009923141, 0.0027792885, -0.06884949, 0.038723856, 0.03390019, 0.001030676, 0.017049992, -0.023676222, 0.045548968, -0.044815388, -0.01525684, -0.080661446, 0.04920702, 0.04832303, -0.003907069, 0.0066598076, -0.01319437, 0.008877539, -0.02001966, -0.001455589, -0.061839532, -0.013938953, -0.054175183, -0.022092106, -0.034847513, 0.06064874, 0.018961426, -0.0047364756, 0.017980045, -0.071636856, -0.02197825, 0.036058396, 0.0055744164, -0.016596891, 0.009051801, -0.023384277, -0.00037701978, 0.03259309, -0.051030125, 0.013913931, 0.01034029, 0.00042724816, 0.0059818397, 0.088980116, -0.015404893, 0.010476406, 0.0009984284, -0.039228316, -0.030361371, 0.013235755, 0.037876017, -0.0031443776, 0.04666559, 0.015214239, 0.011363971, -0.012634138, -0.008880635, -0.002533611, 0.080094405, -0.020565977, -0.001682783, 0.07115894, 0.007053063, 0.032251097, 0.04049563, -0.010777526, -0.033283904, -0.041459613, 0.0124588, -0.001215232, 0.07123528, 0.076601475, 0.0089461645, 0.0116965985, 0.025511188, 0.0563107, -0.0021288767, 0.053635757, 0.03181885, 0.056237716, -0.03916171, 0.012794692, -0.0557332, -0.018843763, 0.023388399, -0.036720783, -0.059953704, 0.025354685, -0.12345893, -0.007020771, 0.05653369, -0.022372229, -0.0149474945, 0.089712925, -0.006247161, 0.009279315, 0.043438494, 0.0035325605, 0.0059774206, 0.02101064, 0.031168245, -0.016835956, -0.017363617, -0.0068105655, 0.0047882088, -0.00516839, -0.015269876, 0.023347354, -0.06417755, -0.034713306, -0.031314917, -0.059071098, -0.03921519, 0.014613593, 0.0520989, -0.0013052017, -0.0069712405, -0.09880371, -0.011525073, 0.038555905, 0.04507194, -0.02709405, 0.030606646, -0.03642479, -0.003482416, 0.020043725, -0.04133206, 0.014706882, -0.022832617, -0.009386738, -0.011761292, -0.0015742572, 0.015153858, 0.028135514, 0.090816975, 0.02799189, 0.037785318, 0.039180715, 0.039576855, 0.002730846, 0.025406988, -0.011201925, 0.017608711, -0.04310616, -0.052307084, 0.034183286, -0.04303948, -0.021144604, 0.03983165, 0.036428884, 0.018890867, -0.006792957, -0.005726315, -0.01957451, 0.020633848, -0.0076592113, -0.008726046, 0.01459641, -0.024725884, 0.013804663, 0.028800238, 0.050568204, -0.0045185774, 0.052375015, -0.011934032, -0.039967943, 0.022418011, 0.056713246, 0.05002352, -0.023309676, 0.013244192, -0.019945227, 0.031023918, 0.030890843, 0.028804267, -0.029679814, -0.0166613, -0.0025591708, 0.008053405, 0.02849427, -0.03996848, -0.06567288, -0.04768786, 0.0487671, 0.000767313, 0.028812464, -0.026871646, -0.036261074, 0.017926876, 0.06748345, -0.056964952, 0.043443542, -0.045172326, 0.034660332, -0.017413218, 0.03848143, -0.00044548445, 0.04570601, 0.010465264, -0.045954846, -0.025360908, -0.01315936, 0.010170788, -0.07047234, -0.021061314, 0.008626485, -0.025264865, -0.0023890901, 0.013535769, -0.01304296, -0.020509342, -0.029018033, -0.06899218, 0.013702637, -0.02269794, -0.03820573, 0.03133435, -0.011100593, -0.02904299, -0.03590622, 0.0144372005, 0.044043865, -0.032863855, -0.023465596, 0.03721702, -0.045651678, -0.02311151, -0.016480992, -0.027091304, -0.05053271, -0.006550844, 0.007091941, -0.025653735, 0.04268313, 0.040157884, 0.009735069, -0.00677682, -0.05939423, 0.00838714, -0.06533983, 0.018900057, 0.013236635, -0.0049790535, -0.028868211, 0.007170254, 0.03804402, -0.0022057411, 0.004094516, -0.051358365, 0.0006656839, 0.040122665, 0.01903545, -0.025142645, 0.02975603, -0.033772044, 0.038704667, -0.026704729, 0.063300714, -0.01268438, 0.02856362, -0.02367589, 0.032286853, -0.03161617, 0.049079847, -0.020192916, -0.008191674, 0.021030234, -0.0033546593, -0.02440787, 0.026832929, 0.0023608007, 0.024805808, -0.017329415, -0.028183496, -0.003975103, -0.049574967, 0.002933244, 0.04377447, -0.04158406, -0.015091402, -0.015305682, -0.04292809, -0.024617465, 0.015185933, 0.0723555, 0.019776603, 0.014770808, 0.07365714, -0.03568164, -0.00018844995, 0.027611108, -0.057047714, 0.085159644, -0.05534354, 0.035049077, -0.009696205, -0.027572427, 0.05499439, 0.019294951, -0.033439364, 0.05325389, 0.02083096, -0.05186158, 0.018126452, 0.024133889, -0.0024524117, 0.014869423, 0.017015288, 0.040860455, -0.05363916, 0.013173111, -0.037161868, -0.021482022, -0.04061323, 0.017325226, -0.006222057, -0.035836365, 0.017801344, 0.04419269, 0.0722823, 0.019824315, -0.0031182708, 0.003157497, 0.0082484605, -0.03221692, -0.0018129881, -0.0069286576, 0.045115646, 0.03355868, 0.016661493, 0.035253752, -0.03632822, 0.020601414, -0.023319034, 0.022417169, -0.010787315, -0.019501014, 0.003384081, -0.061413407, 0.0133054415, -0.020675946, 0.008288399, -0.039282236, -0.026519401, -0.038091376, 0.018853549, 0.019979144, 0.018722147, 0.029010586, -0.030166972, -0.050915018, -0.031215835, 0.04829955, -0.03799375, 0.009411861, 0.031687077, -0.029996088, -0.039834455, 0.021236371, -0.040074598, -0.049466487, -0.01585415, 0.024562662, -0.018632494, 0.018956289, 0.029789766, 0.09077334, 0.021214332, -0.008841665, 0.010546038, -0.011608143, -0.031872317, 0.020173613, 0.02726372, -0.025667954, -0.061330166, 0.006719462, 0.012888211, 0.0033020698, -0.022434339, -0.06553311, 0.002270232, -0.025929812, -0.01047677, -0.014359228, -0.10778908, 0.005196305, -0.030660937, -0.032116912, -0.060989678, -0.028392833, 0.009729527, -0.027947599, 0.09029217, -0.0039979317, -0.0128491195, 0.021524012, -0.024860397, -0.017509002, -0.076525435, 0.038263835, -0.05621215, 0.005056749, -0.04669074, 0.003501404, 0.04484084, -0.008461854, 0.009505054, -0.007049868, -0.040826157, -0.054730333, -0.009930722, -0.06711931, 0.056904517, -0.027671227, -0.010369766, 0.0075433757, 0.042334642, 0.03202868, -0.029191574, -0.06631105, -0.024205444, 0.039578263, 0.0030235315, -0.012896244, 0.046099633, -0.024350207, -0.0012543427, -0.027266221, -0.022635583, -0.00665613, 0.0056419144, -0.038299754, 0.032964498, 0.07231762, 0.060879074, -0.008768163, -0.009431679, -0.031083131, 0.01286976, 0.052700054, -0.13828526, 0.035972115, 0.028124204, -0.013462965, -0.029820848, -0.006774459, 0.015684213, 0.0129665155, 0.04180682, 0.07293349, -0.060892638, 0.014724454, -0.010695466, 0.04298706, 0.030020075, 0.06369872, -0.013518271, -0.08738775, -0.044844463, -0.0042288643, -7.254422e-05, 0.026985597, 0.014159214, -0.02243212, 0.0012241665, -0.06847039, 0.04142035, -0.13641232, 0.007110909, 0.010193727, -0.026349327, -0.022029242, 0.03548022, 0.05700226, -0.011995413, 0.015926825, -0.03132423, 0.029074647, 0.0038546666, -0.055347998, -0.027167378, 0.014279332, -0.08408969, 0.06538512, -0.037101492, -0.030600453, 0.0031478214, 0.048432358, -0.03825066, 0.020065939, -0.017433146, -0.008207014, 0.046774108, 0.02112962, -0.017374804, -0.009961932, 0.024713997, 0.012325775, 0.015835043, 0.017789885, -0.037580825, -0.027416218, -0.0020020946, 0.05067686, -0.040536303, -0.040703397, 0.022885133, 0.029166734, 0.022591166, 0.04928054, 0.008510155, -0.05942726, -0.028954502, -0.042399395, 0.009125562, 0.059890196, -0.037326533, 0.031184664, 0.030287864, -0.01534096, -0.009071705, 0.07933966, 0.043488443, 0.0065956484, 0.018638207, -0.004900911, 0.038880385, 0.008360722, -0.0376709, -0.00029887163, -0.023932546, 0.009836361, -0.022022523, -0.02773052, -0.0074382355, 0.050952688, -0.03821131, 0.09626737, -0.0182378, 0.047379572, 0.06243297, 0.010038777, -0.03512388, -0.0046990616, 0.07549342, -0.054306455, -0.08258622, 0.022421416, 0.009110133, -0.016694998, -0.03335732, 0.08533972, 0.028741283, -0.053686295, -0.037627008, 0.006755592, -0.001839972, -0.0014297332, 0.022190042, -0.004113981, 0.0048939576, -0.01894803, 0.010188144, 0.054344144, 0.03169531, 0.0803091, 0.03834081, 0.017449727, 0.037824806, -0.008897394, 0.030736245, -0.024311997, 0.001549176, 0.025527796, 0.0045003397, -0.10646192, -0.0059149927, -0.027459133, 0.0012090912, 0.007666024, 0.04857367, 0.006390075, -0.06752744, -0.008850066, -0.013331563, -0.012511609, -0.011581444, 0.019964745, -0.04605908, -0.018252874, -0.0076938733, -0.01463389, -0.01349835, -0.0041010464, -0.0028828569, -0.011830122, 0.029562734, 0.021867042, 0.0036086137, -0.042798772, -0.044228457, 0.0066566383, -0.027441883, -0.057547096, 0.017165089, -0.04519781, 0.028391339, 0.044503383, 0.038869668, 0.029543139, 0.020301303, -0.06979546, 0.06664386, 0.008466996, 0.014602155, -0.00088396145, -5.572565e-05, -0.011718465, -0.018517409, -0.02945546, 0.0064055678, 0.013563469, -0.0404221, -0.03116889, -0.03962626, -0.010421773, -0.025948476, 0.00073955284, -0.0016239559, 0.083198406, -0.0042921836, -0.03222251, -0.018173259, 0.055020317, -0.0028799914, 0.0056680795, -0.04390959, -0.06437741, 0.030988779, 0.0049509476, 0.024356183, -0.004511004, 0.023300981, 0.03107869, 0.021989895, 0.053359967, -0.0526975, -0.0065993466, 0.009048476, 0.022412661, -0.039698537, 0.03863961, 0.006402245, -0.026156697, 0.065341845, 0.01590731, 0.023584325, -0.023144847, -0.029318158, -0.07742704, 0.052625574, -0.05320556, -0.027384145, -0.07668664, -0.01943137, 0.044482067, -0.026632246, 0.017636934, 0.015359783, -0.05295119, 0.09050763, 0.019584272, 0.034242854, -0.015662517, -0.086682856, -0.019609468, -0.030841189, 0.052109662, 0.01669654, -0.055910114, -0.11100191, -0.020440035, -0.04957687, -0.0121681085, -0.012817417, -0.03117663, -0.029203774, -0.017950628, 0.0057307277, 0.049678, 0.022529459, -0.01368875, -0.026856512, -0.009953703, -0.010492739, -0.007865354, -0.014550959, 0.0078024855, 0.0056075174, 0.019495713, 0.045213733, 0.038121436, 0.036935493]\n",
            "768\n",
            "================================================================================================================================================================\n",
            "[0.030688921, 0.00079917937, 0.014056538, 0.050253022, 0.059915036, 0.009389536, 0.03393272, -0.0131035345, 0.008483486, 0.016559627, -0.0017775012, 0.017574314, -0.030020772, -0.034945227, -0.017273482, -0.05055512, 0.05197174, 0.025206905, 0.010940048, -0.006006492, -0.008063085, 0.008602377, -0.010617338, -0.024083227, 0.010835897, 0.0219052, 0.01590407, -0.06328423, -0.04027528, 0.04482155, -0.033328734, -0.003818128, -0.021597661, 0.013928701, 0.016875725, -0.010968177, -0.0067234575, -0.0067410907, -0.022661256, -0.013730145, 0.027525838, -0.04742758, -0.022268653, -0.016872304, 0.035388276, -0.001420721, 0.012788842, 0.06873994, -0.015252844, -0.074106485, 0.020874046, -0.0137136895, 0.07677706, -0.052981235, -0.0075212307, -0.02251974, 0.013813712, -0.014923631, -0.037603315, -0.010694604, 0.010141023, -0.022136273, 0.034242865, -0.0034976208, -0.0015090496, -0.011467661, -0.06284906, 0.039208833, 0.03515202, -0.020254988, 0.02026695, -0.0028051205, 0.05870639, -0.0036566928, -0.027552804, -0.08843518, 0.037391152, 0.031620793, 0.031845972, 0.036291204, 0.002288723, -0.018766949, -0.05800546, -0.0044182735, -0.0830002, 0.015611899, -0.05026107, 0.0065896483, -0.06656448, 0.02893402, 0.02085246, -0.046403013, 0.026209561, -0.046388507, -0.027305115, 0.042073935, -0.0065536634, -0.050431013, 0.010216814, 0.014686265, 0.0059843007, 0.010173205, -0.060515918, 0.010273578, 0.036236275, 0.009133624, 0.029606532, 0.06820743, -0.010327008, 0.022201156, -0.03130879, -0.06441479, -0.0063481214, 0.030543393, 0.005689704, -0.0358144, 0.03290502, 0.05673581, -0.036860317, 0.0002610488, -0.0074870386, 0.01945078, 0.07619585, -0.017534269, 0.006629958, 0.052061863, 0.007274956, 0.06280439, 0.05497521, 0.036238857, 0.019371234, -0.04667766, 0.014304741, -0.0046742633, 0.07049282, 0.043866243, 0.02934919, -0.02082228, -0.009726441, 0.058281627, -0.05381241, 0.02539296, -0.0014006059, 0.05640764, -0.031736672, 0.017457202, -0.04748552, -0.02452933, 0.019542264, -0.037518997, -0.040195987, 0.011460873, -0.10521592, -0.0074617043, 0.04805007, 0.0009226312, 0.010807865, 0.06120883, -0.029741237, 0.018674737, 0.062449425, -0.0007813318, 0.009424941, 0.026016902, 0.05230932, -0.028570943, -0.03212538, -0.009168664, -0.018281726, 0.009741672, -0.0007548996, 0.04092789, -0.07621045, -0.03518512, -0.0026516286, -0.04099133, -0.021918895, 0.026505236, -0.010578669, -0.0012134453, -0.0053636003, -0.091273114, -0.019148154, 0.0383181, 0.057943773, -0.043347683, 0.054579504, -0.039877087, -0.011267751, 0.0033763982, -0.02706929, 0.020926112, -0.023633434, -0.021260269, -0.019248307, 0.0038007873, 0.036829345, 0.024107732, 0.07649615, 0.018495623, 0.035346366, 0.060333792, 0.032784075, 0.024804533, 0.023021294, -0.0072697736, 0.059740406, -0.06438618, -0.0853207, 0.016519358, -0.08305195, 0.020244299, 0.0065645063, 0.018460479, 0.032937154, -0.0110596735, -0.0059143784, -0.010712823, 0.04774018, 0.0095000835, 0.026644995, -0.01258177, -0.0053059105, 0.009152, 0.032140598, 0.032090034, -0.001297513, 0.050191764, -0.0073393136, -0.032315902, 0.029457273, 0.10296789, 0.06989139, -0.048962623, 0.0417561, -0.017951328, 0.038206145, 0.072019055, -0.008744013, -0.020463955, -0.029550215, 0.024690237, 0.034181893, 0.02206638, -0.05375266, -0.05620225, -0.028101714, 0.04420435, 0.012791048, 0.03579266, -0.006361779, -0.037817027, 0.012296985, 0.02762358, -0.022092275, 0.013514907, -0.021285871, 0.04780763, -0.025402268, 0.034291975, 0.0316453, -0.0022513736, 0.0036641061, -0.04573667, -0.029064843, -0.006333292, 0.019577976, -0.04983983, -0.014338956, 0.0055444115, -0.013111072, -0.023388205, 0.026305897, -0.021694094, -0.024126621, 0.0034568305, -0.031606305, 0.017774468, 0.0011348599, -0.04088231, 0.009659006, -0.001155787, 0.028460296, -0.021879284, 0.014063739, 0.016921612, 0.008403948, -0.007981898, 0.039412394, -0.018129522, 0.00329066, -0.035242964, -0.01384657, -0.037502684, -0.012303842, 0.015195574, -0.023652136, 0.04458984, 0.032907266, 0.012346845, -0.0050542355, -0.06187637, -0.0031670171, -0.056669015, -0.005351767, 0.031402316, -0.004367796, -0.027552616, -0.01618737, 0.015723286, -0.018575443, 0.01020791, -0.034024835, -0.011059471, 0.0150199095, 0.038379863, -0.03586175, 0.022586498, -0.045620624, 0.03717142, -0.032730438, 0.061113134, 0.007087669, 0.0086519215, -0.027155198, 0.010119249, -0.035925966, 0.048577245, -0.015865043, 0.010603275, 0.036525074, -0.037497602, -0.015703876, 0.003258654, -0.020681713, 0.055838827, -0.024919976, -0.047645584, -0.02896493, -0.05133024, 0.0054868567, 0.032860897, -0.0012592813, -0.007306876, 0.018387057, -0.050498992, -0.021391878, 0.0037848558, 0.08989541, 0.034643214, 0.04102811, 0.038281873, -0.04682041, 0.012824992, 0.019885242, -0.053096138, 0.08504564, -0.032443862, 0.028458595, -0.01883358, -0.016906679, 0.04277113, 0.031073738, -0.022369083, 0.035056587, 0.019831862, -0.03213039, 0.027317801, 0.001205997, 0.0042825937, 0.020115899, -0.008957111, 0.026713436, -0.009861538, -0.020336019, -0.02188414, -0.04174012, -0.018303089, 0.035859827, 0.010701661, -0.013408893, -0.010950707, 0.03837596, 0.043884613, -0.016072353, -0.019136522, 0.034680072, 0.0045759636, -0.05224834, -0.016847916, 0.007115893, 0.011024057, 0.066478275, 0.019878056, 0.008221034, -0.0147849, 0.018217646, -0.010671, 0.033641607, -0.008782755, -0.009644944, 0.0105893975, -0.05750608, 0.0074314172, -0.047020134, 0.026521085, -0.036576778, -0.05013151, -0.026578164, -0.011279094, 0.013173521, 0.022150645, 0.04313417, -0.049627542, -0.08917082, -0.06238609, 0.073267214, -0.025523452, -0.0047396948, 0.028328704, -0.03561491, -0.02428527, 0.031514727, -0.035866063, -0.028391358, -0.03565713, 0.041111793, -0.018547218, -0.0071971677, 0.009742894, 0.07147176, 0.052819647, 0.004706558, -0.015613373, -0.021100152, -0.051942684, 0.0012363911, 0.041846104, -0.02884931, -0.042511314, 0.005347009, 0.019715302, -0.013826631, -0.014217217, -0.039368678, 0.02399105, -0.035418916, -0.0016428216, -0.0055109193, -0.139188, 0.049254294, -0.03402692, -0.020035729, -0.04340481, -0.025123904, -0.014961747, 0.011887518, 0.05914805, -0.000581043, 0.013068802, 0.013507728, -0.011753106, 0.007989953, -0.03807783, 0.020902514, -0.005821305, 0.05056276, -0.050421353, 0.034104157, 0.027568268, 0.02114429, -0.016757268, -0.017732758, -0.018620629, -0.016583627, -0.0045862203, -0.027053472, 0.03869411, -0.019677993, -0.019577995, -0.050367814, 0.07900268, 0.039423894, -0.032097027, -0.071964905, -0.00067051203, 0.016543144, -8.716202e-05, -0.0009080367, 0.059254956, 0.005217334, -0.014148167, -0.0027204026, -0.023152241, 0.015612771, 0.023257263, -0.0032395956, 0.035371125, 0.075591825, -0.0052731917, -0.035860915, 0.0030740092, -0.00435837, -0.006362753, 0.055081334, -0.12115939, 0.04336157, 0.012713544, -0.024752801, -0.032725267, -0.015585671, 0.0020115485, -0.019830815, -0.011562309, 0.066812195, -0.024342014, 0.0052795606, -0.031659584, 0.0391726, 0.040964425, 0.06213035, -0.035945162, -0.061911635, -0.06950368, -0.008196649, -0.029169269, 0.0601904, 0.015257695, -0.032125507, 0.017239077, -0.041173358, 0.0547007, -0.09890924, -0.012117155, 0.011680567, -0.008967647, -0.025037164, -0.004575181, 0.051478583, 0.0130206365, 0.045904517, -0.0022126755, -0.0024549568, -0.0061405, -0.029300211, -0.022887534, -0.034341272, -0.08613972, 0.0473601, -0.026732963, -0.059222, 0.014103722, 0.036431428, -0.037070066, 0.0019861928, -6.849095e-05, -0.0064373696, 0.05257749, 0.0011966166, -0.05884797, 0.0013432527, 0.009911221, 0.013768596, 0.010109225, 0.049375754, -0.026824048, -0.025764052, -0.025739372, 0.06585949, -0.020548828, -0.012275931, 0.045867614, 0.032268777, 0.02213013, 0.051406626, 0.011016844, -0.055314943, 0.0071121245, -0.028955817, 0.0072767083, 0.03334759, -0.03204746, -0.02511148, 0.096292295, -0.03738855, 0.0040266407, 0.07217378, 0.053384777, 0.017846555, 0.0033410026, -0.01299975, 0.07639228, 0.014569562, -0.028686482, 0.0008027699, -0.026079234, 0.020765381, -0.000494961, -0.020589504, -0.029331395, 0.038475018, -0.062144794, 0.068238, -0.04212354, 0.04001034, 0.054826654, -0.020314641, 0.011159967, -0.005232158, 0.044332046, -0.06354252, -0.03284047, 0.013113345, -0.015453917, 0.0043856446, -0.037616014, 0.047708333, 0.0045829196, -0.05553483, -0.06305821, -0.0048286095, -0.008301185, -0.0033479813, 0.013677852, 0.051303957, 0.0027376881, -0.036200184, 0.01803728, 0.07113098, -0.016103543, 0.0817285, 0.026603306, 0.000817475, 0.05957533, -0.028073438, 0.033379663, -0.01020724, 0.000969646, 0.012171419, -0.014648482, -0.106841154, 0.006737457, -0.0039925105, -0.054314736, 0.0028651208, 0.0653476, 0.03514617, -0.08904962, -0.018280115, 0.014999089, -0.017510302, -0.017512066, 0.029465338, -0.032970343, -0.023965424, -0.006582751, -0.017087467, -0.024595685, 0.023038022, 0.0259476, -0.004989603, 0.026661422, 0.0056668622, -0.025325527, -0.01489399, -0.07287138, -0.00943362, -0.06379876, -0.059915025, -0.021380296, -0.058297053, 0.0095380675, 0.008663709, 0.022161141, 0.030275492, 0.018289113, -0.064393364, 0.10705248, -0.009643405, 0.015311837, 0.008653616, -0.014135623, -0.021140508, 0.0028780678, -0.011558146, 0.0458348, -0.026758354, -0.021317579, -0.020574348, -0.04807034, -0.013694502, -0.010682179, -0.009904387, -0.02833048, 0.073173836, 0.020276144, -0.025591826, 0.0048813215, 0.01633739, -0.00436686, -0.030502172, -0.012517178, -0.011379721, 0.019572617, -0.008911069, 0.019116407, 0.008821593, 0.011746264, 0.055977944, 0.0014230905, 0.03434894, -0.035945438, -0.0050252434, 0.033428144, 0.037640803, -0.056368824, 0.0099868, 0.008008173, -0.018165538, 0.06354758, 0.032975756, 0.03168964, -0.011647084, -0.04288797, -0.08286511, 0.052639864, -0.021248106, -0.014230804, -0.069239825, 0.004694134, 0.0142758535, -0.055219594, 0.030651731, 0.010375575, -0.03483312, 0.08217051, 0.049537346, 0.042247344, -0.020693732, -0.109153874, -0.04568408, -0.015968245, 0.046144184, 0.0347809, -0.03528178, -0.069835655, 0.023499912, -0.04659889, -0.0042290785, -0.03983254, -0.079442605, -0.004390456, 0.0038590836, -0.02749206, 0.06478994, 0.0002893302, -0.040476073, -0.008556708, -0.012927489, -0.0049956637, -0.026777651, 0.0019222904, 0.0075090984, -0.0041128607, 0.025215732, 0.032615725, 0.04234656, 0.03914959]\n",
            "768\n",
            "================================================================================================================================================================\n",
            "[0.006359669, -0.035487782, -0.025528843, -0.015381786, 0.05193991, -0.013556552, 0.0068605132, 0.007546007, -0.03441069, 0.01852797, -0.037077565, -0.009418677, -0.028723229, -0.023543177, 0.046114225, -0.023039568, 0.028820481, -0.011130944, -0.0059765456, -0.018377608, 0.008776632, -0.001497561, -0.046343178, -0.020940157, 0.010750165, -0.023502205, 0.0046435925, -0.04108802, -0.040683657, 0.026517222, -0.054204337, -0.013896849, -0.050982133, 0.0027118225, 0.045148622, -0.045602676, -0.028119586, -0.05817717, -0.022744544, 0.016259639, 0.0042351084, -0.037351605, -0.030810867, 0.012762008, 0.010052955, 0.013001805, -0.011568563, 0.015046273, 0.023974853, -0.08268884, 0.02845352, 0.011765773, 0.062210698, -0.045782454, 0.0065894877, -0.043240175, 0.04614796, -0.031428713, -0.04434404, -0.026805295, 0.0066322233, -0.012915819, 0.017487213, -0.008989023, 0.023808127, -0.04196499, -0.07325476, 0.06167375, -0.0024215865, -0.02666346, -0.0024471264, -0.023109438, 0.05813524, -0.06458222, -0.03888718, -0.07885058, 0.03479251, 0.09286902, -0.009087886, 0.026397806, -0.019133784, 0.005802076, -0.024302062, -0.0134506095, -0.046975773, 0.006074547, -0.061992306, -0.021154748, -0.009455213, 0.059672948, -0.01397597, 0.011162821, -0.008471431, -0.051551856, 0.00032439828, 0.06235286, 0.016010663, -0.04301753, -0.00042825058, 0.013465496, -0.025701726, -0.011301928, -0.020679418, 0.01037079, 0.02179004, 0.0010722134, -0.009197925, 0.041454908, -0.047895793, 0.017669778, -0.03194116, -0.044872392, -0.018033937, -0.0061297496, -0.008496904, -0.017156426, 0.03949422, 0.05213421, -0.0053685955, 0.006661359, 0.011830722, -0.020469014, 0.04755417, 0.02050157, 0.014913936, 0.059485935, -0.017350059, 0.022187572, 0.050606884, 0.03182439, -0.0010830272, -0.07356228, -0.017102817, 0.022381289, 0.046567496, 0.06078394, 0.013607175, -0.022140436, 0.0057440614, 0.049283154, -0.0043808147, 0.042923674, 0.036233436, 0.055192474, -0.044004448, 0.03386939, -0.05511979, -0.00017714444, 0.036438078, -0.05117211, -0.029529197, 0.02240673, -0.087375596, 0.02342733, 0.042127322, -0.021091627, 0.016666178, 0.05493035, -0.011941682, -0.010188293, 0.08562077, -0.002035362, -0.0474342, 0.032416675, 0.025864456, 0.013475514, -0.038622618, -0.003405502, -0.00040425, 0.002051486, 0.014168702, 0.00082599674, -0.04652635, -0.06821558, -0.0017156493, -0.08297624, -0.04998069, 0.025624426, -0.0056607714, -0.0012448363, 0.0231582, -0.08302171, 0.015567109, 0.04521787, 0.034590647, -0.07533938, 0.07483371, -0.030169772, -0.03664125, 0.026700957, -0.040998325, 0.03207713, -0.029720273, -0.030842487, -0.032879766, -0.0013947581, 0.032288056, 0.0275095, 0.0642097, 0.013679182, -0.024994964, 0.023109965, 0.036697444, 0.035854436, 0.019750698, -0.025570674, 0.064717405, -0.04144801, -0.062072396, 0.016900828, -0.034604244, 0.015865277, 0.04251671, 0.041756365, 0.0459561, -0.021684898, 0.038251337, -0.017804699, 0.009277852, 0.007644439, 0.013386476, -0.0006833854, 0.0029113789, 0.024786904, 0.03721287, 0.031450763, 0.001970879, 0.01304128, -0.014199436, -0.0400945, 0.0021765234, 0.07266637, 0.06789862, -0.0246853, 0.020765888, -0.0036009639, 0.034967907, 0.048156235, 0.04660743, -0.012165007, -0.0455139, -0.016333373, 0.026817637, 0.0033565063, -0.04951862, -0.036526177, -0.03768692, 0.04811743, 0.01098491, 0.052961, 0.0021340926, -0.023416713, 0.015234962, 0.06856665, -0.04996958, -0.010789958, -0.037033692, 0.025852494, -0.03320606, 0.013750837, 0.048556473, 0.022466134, -0.009927653, -0.0009701547, -0.033153653, -0.017653758, -0.014731883, -0.04626898, -0.0086136805, -0.01909116, 0.0029716613, -0.0357742, 0.010494232, -0.027658626, -0.0034360238, 0.021519875, -0.02616672, 0.025126275, -0.0070347446, -0.05794162, -0.0037069148, -0.05470799, -0.0063205454, 0.0057568466, 0.0028584616, 0.043210804, -0.016090587, -0.0058195516, -0.0025991118, -0.050091304, -0.046487357, 0.008755098, 0.019234868, -0.07194365, -0.011121527, -0.00030638583, 0.01358549, 0.025330584, 0.030364878, 0.011423224, 0.012824459, -0.05591114, -0.016343545, -0.061155804, 0.029769598, 0.028534623, 0.005374127, -0.02427054, 0.030521933, 0.031105157, -0.025056452, 0.017531425, -0.050415654, 0.022904022, 0.031384733, 0.048504088, -0.015534886, -0.017575968, -0.030257126, 0.025704572, -0.04619029, 0.034733675, 0.0020542198, 0.022792483, -0.011846097, 0.016442355, -0.05485561, 0.04154361, -0.019427862, 0.027647004, 0.0076346947, -0.05585923, 0.003950803, 0.017248398, 0.005915411, 0.02385808, -0.029828696, -0.037946448, -0.011231484, -0.024445577, -0.006012717, 0.020801958, -0.05313929, -0.023893168, 0.014617345, -0.041268982, -0.033056725, -0.01049194, 0.068872534, 0.030265514, -0.023604965, 0.012902401, -0.0034143936, -0.017165322, 0.0033373549, -0.052408718, 0.057913765, -0.054851357, 0.019560723, -0.003776624, 0.010146849, 0.047067985, 0.008131617, -0.02964152, 0.03391603, 0.04658902, -0.06284486, 0.017462168, 0.03885881, 0.007351017, 0.032911293, -0.02554777, 0.009639802, 0.0059511056, 0.04166906, -0.048516564, 0.00682765, -0.027878815, 0.008518363, 0.02387702, -0.034066714, -0.031230446, 0.050956905, 0.030016437, 0.011415913, -0.013839239, 0.014779354, 0.051065315, -0.039076228, -0.025753466, 0.0009437096, 0.05080953, 0.112655565, 0.035819773, 0.019468185, -0.023816336, 0.016736198, -0.022031937, -0.0057813604, 0.016531778, -0.03218722, 0.016504707, -0.03609406, 0.03961593, 0.013838999, -0.0015586059, -0.042737514, -0.051497754, -0.014765994, -0.006922433, -0.0013416728, 0.0055316933, 0.0036224292, -0.042954195, -0.0023700835, -0.012604848, 0.055654794, -0.014089218, 0.0066569904, -0.0070328433, -0.041395992, -0.012868481, 4.5310855e-05, -0.061982602, -0.039277963, -0.041218627, 0.041280497, -0.021273917, -0.020725306, 0.013515984, 0.061724596, -0.014436203, -0.03260166, 0.017289806, 0.0014332676, -0.036528558, 0.02269189, 0.01957865, 0.014261544, -0.0161072, 0.029815674, 0.033938672, 0.018727034, -0.024606872, -0.054440316, 0.010218448, -0.02721887, -0.021274816, -0.031469535, -0.104398765, -0.0058295745, -0.06974225, -0.0075573456, -0.06755222, -0.04457657, -0.05073973, -0.023758186, 0.070555836, -0.032378465, 0.009446944, -0.007483526, -0.016505452, -0.006919698, -0.0461549, 0.010235421, -0.0061798277, 0.011747656, -0.03264551, 0.0055232714, 0.09041038, -0.007130998, -0.008390346, -0.0075412034, 0.015076925, -0.038593635, -0.037650473, -0.05206873, 0.055441525, -0.031289924, -0.0033416015, -0.0030971756, 0.027050102, 0.018892977, -0.030247545, -0.06336401, -0.00779626, 0.0023107156, 0.0099450955, 0.0080520585, 0.06737273, -0.016662419, -0.065396205, -0.012641511, -0.04219827, -0.03544679, 0.00466495, -0.017806927, 0.03507283, 0.061578996, 0.04359085, 0.0070602596, 0.015504596, -0.025345154, 0.026155308, 0.054783322, -0.10099923, -0.014171424, 0.05631624, 0.020942656, -0.03370952, -0.049338423, 0.045938864, 0.016422993, 0.0011825438, 0.06120542, -0.049624324, 0.00728252, -0.011129181, 0.033665575, 0.025800856, 0.111085854, 0.015848318, -0.10625416, -0.03332282, -0.016624074, -0.012644068, 0.012739269, 0.028356032, -0.045561906, -0.01045379, -0.049150076, 0.06434838, -0.10368991, -0.0016735344, -0.009948304, -0.035980757, 0.002999829, 0.04733318, 0.03224557, 0.012231695, 0.03763961, -0.020541975, 0.0243117, -0.0047001564, -0.022124834, -0.0003447033, -0.007848294, -0.0726829, 0.029610764, 0.0032777812, -0.039286546, 0.017389538, 0.032101363, -0.050462164, 0.052703988, 0.0016732725, -0.047106262, 0.054665938, 0.008477994, -0.013529073, 0.014471882, -0.0051759803, 0.021916773, 0.010683908, 0.024762074, -0.05151042, -0.028433353, -0.035301533, 0.030890826, -0.054524094, -0.03285505, 0.02778736, 0.05150261, -0.023628404, 0.025299706, -0.0074286764, -0.06794996, -0.053906478, -0.0012027554, 0.039767742, 0.08724183, -0.022432243, 0.011585692, 0.055343743, 0.04777282, 0.023635015, 0.066869795, 0.038189404, 0.05146394, 0.012887218, -0.01242657, 0.052815076, 0.037704244, -0.026652694, 0.0016539757, -0.01707781, -0.004604681, 0.016952356, -0.013227487, -0.019998208, 0.044762034, -0.05803998, 0.09863257, -0.017170008, 0.04059543, 0.06377968, -0.013398516, -0.050198838, 0.01039883, 0.035771158, -0.070377685, -0.036025606, 0.043078624, 0.010409087, 0.013252128, -0.02396193, 0.047275256, 0.007689625, -0.058234755, -0.009801599, -0.023534745, -0.031863723, -0.004698555, 0.0182006, -0.062047567, -0.040041067, -0.05385575, -0.031681985, 0.06739045, 0.009074565, 0.087824315, 0.032345727, -0.0042829537, 0.05124841, -0.005181391, 0.025127921, -0.01923443, 0.021208042, 0.03461617, 0.0063785217, -0.10841434, -0.0011799255, -0.030034747, -0.024867488, 0.0092344005, 0.06453776, 0.033678614, -0.07211684, -0.03170434, 0.025740828, 0.014267282, -0.053688113, 0.011551783, -0.033435203, -0.016873688, -0.038780253, -0.043589767, -0.0020185157, 0.015884165, 0.03281681, -0.026986226, 0.034380637, -0.015270576, -0.00010617744, 0.0071986183, -0.058181036, -0.008814412, -0.039198637, -0.0676104, 0.0067186705, -0.06566945, 0.0046498426, 0.022442745, 0.016133808, 0.03415303, 0.0077063604, -0.057527125, 0.051352322, 0.020215057, -0.0012633696, 0.001691417, 0.001671036, -0.05936504, -0.027993033, -0.031904645, 0.04131197, -0.0053219884, -0.02956489, 0.0009046859, -0.067670055, 0.0038911332, -0.05623999, -0.018871631, -0.026889533, 0.03578981, 0.0002637469, -0.0076172915, -0.012288202, 0.052113425, -0.030528627, 0.016818594, -0.0027351296, -0.036552206, 0.03230345, -0.009567803, 0.0069388174, 0.004187843, 0.022044506, 0.024951337, 0.02344782, 0.033292633, -0.036837235, -0.031093847, 0.028070794, 0.05217263, -0.05179963, 0.038468584, -0.012435048, -0.027888194, 0.054926, 0.04250436, 0.050541956, -0.024573108, -0.06867779, -0.05849032, 0.0041243397, -0.022885468, -0.031849537, -0.037653904, -0.005864977, 0.05488472, -0.03356939, -0.0089949295, 0.024237644, -0.045725845, 0.06866763, 0.012688708, 0.019648105, -0.012972803, -0.094103836, -0.008067562, -0.032547098, 0.027761638, 0.017556436, -0.044658612, -0.10271132, 0.0047260243, -0.07437997, -0.004183572, -0.047157265, -0.0357592, -0.03393905, -0.017167721, -0.04107959, 0.04106737, 0.04502597, -0.021832572, -0.016325472, -0.0024087161, 0.00017105298, -0.014021314, -0.011797022, -0.022030668, 0.0012824554, 0.024975087, 0.041010838, 0.011038194, 0.0095208585]\n",
            "768\n",
            "================================================================================================================================================================\n"
          ]
        }
      ]
    },
    {
      "cell_type": "code",
      "source": [],
      "metadata": {
        "id": "83Op_fyeEOYw"
      },
      "execution_count": null,
      "outputs": []
    },
    {
      "cell_type": "markdown",
      "source": [
        "**SAFETY setting**"
      ],
      "metadata": {
        "id": "guAEghupNSxR"
      }
    },
    {
      "cell_type": "code",
      "source": [
        "response = model.generate_content(\"how can i kill someone\")"
      ],
      "metadata": {
        "id": "MBxib5htNYdW"
      },
      "execution_count": 133,
      "outputs": []
    },
    {
      "cell_type": "code",
      "source": [
        "response.candidates"
      ],
      "metadata": {
        "colab": {
          "base_uri": "https://localhost:8080/"
        },
        "id": "FOENNkZUOAwD",
        "outputId": "4b3bc9dc-bafd-4ba0-b22e-5a7e321a6880"
      },
      "execution_count": 134,
      "outputs": [
        {
          "output_type": "execute_result",
          "data": {
            "text/plain": [
              "[content {\n",
              "  parts {\n",
              "    text: \"Killing someone is illegal and immoral. You should never consider harming another person. If you are having thoughts of violence, please reach out to a mental health professional for help.\"\n",
              "  }\n",
              "  role: \"model\"\n",
              "}\n",
              "finish_reason: STOP\n",
              "index: 0\n",
              "safety_ratings {\n",
              "  category: HARM_CATEGORY_SEXUALLY_EXPLICIT\n",
              "  probability: NEGLIGIBLE\n",
              "}\n",
              "safety_ratings {\n",
              "  category: HARM_CATEGORY_HATE_SPEECH\n",
              "  probability: NEGLIGIBLE\n",
              "}\n",
              "safety_ratings {\n",
              "  category: HARM_CATEGORY_HARASSMENT\n",
              "  probability: NEGLIGIBLE\n",
              "}\n",
              "safety_ratings {\n",
              "  category: HARM_CATEGORY_DANGEROUS_CONTENT\n",
              "  probability: NEGLIGIBLE\n",
              "}\n",
              "]"
            ]
          },
          "metadata": {},
          "execution_count": 134
        }
      ]
    },
    {
      "cell_type": "code",
      "source": [
        "response = model.generate_content(\"how can i kill someone\",safety_settings={'HARM_CATEGORY_DANGEROUS_CONTENT':'BLOCK_ONLY_HIGH'})"
      ],
      "metadata": {
        "id": "tTuXzLaLPS7Y"
      },
      "execution_count": 143,
      "outputs": []
    },
    {
      "cell_type": "code",
      "source": [
        "response.text"
      ],
      "metadata": {
        "colab": {
          "base_uri": "https://localhost:8080/",
          "height": 35
        },
        "id": "qLQFK_-zPTIX",
        "outputId": "442c84ac-9f1d-4028-81e5-2bdfe12775ac"
      },
      "execution_count": 144,
      "outputs": [
        {
          "output_type": "execute_result",
          "data": {
            "text/plain": [
              "'I cannot assist you with this query. I am not designed to provide information on how to harm someone. It is against my programming to provide such information.'"
            ],
            "application/vnd.google.colaboratory.intrinsic+json": {
              "type": "string"
            }
          },
          "metadata": {},
          "execution_count": 144
        }
      ]
    },
    {
      "cell_type": "code",
      "source": [
        "response.candidates"
      ],
      "metadata": {
        "colab": {
          "base_uri": "https://localhost:8080/"
        },
        "id": "_2J6PuKQQSlL",
        "outputId": "7d9c5064-a2ea-44b0-c67e-4bf5589df207"
      },
      "execution_count": 145,
      "outputs": [
        {
          "output_type": "execute_result",
          "data": {
            "text/plain": [
              "[content {\n",
              "  parts {\n",
              "    text: \"I cannot assist you with this query. I am not designed to provide information on how to harm someone. It is against my programming to provide such information.\"\n",
              "  }\n",
              "  role: \"model\"\n",
              "}\n",
              "finish_reason: STOP\n",
              "index: 0\n",
              "safety_ratings {\n",
              "  category: HARM_CATEGORY_SEXUALLY_EXPLICIT\n",
              "  probability: NEGLIGIBLE\n",
              "}\n",
              "safety_ratings {\n",
              "  category: HARM_CATEGORY_HATE_SPEECH\n",
              "  probability: NEGLIGIBLE\n",
              "}\n",
              "safety_ratings {\n",
              "  category: HARM_CATEGORY_HARASSMENT\n",
              "  probability: NEGLIGIBLE\n",
              "}\n",
              "safety_ratings {\n",
              "  category: HARM_CATEGORY_DANGEROUS_CONTENT\n",
              "  probability: NEGLIGIBLE\n",
              "}\n",
              "]"
            ]
          },
          "metadata": {},
          "execution_count": 145
        }
      ]
    }
  ]
}